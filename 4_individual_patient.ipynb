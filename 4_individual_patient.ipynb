{
 "cells": [
  {
   "cell_type": "markdown",
   "metadata": {},
   "source": [
    "# Individual patient model"
   ]
  },
  {
   "cell_type": "code",
   "execution_count": 1,
   "metadata": {},
   "outputs": [],
   "source": [
    "import warnings\n",
    "warnings.filterwarnings(\"ignore\")\n",
    "\n",
    "from utils.individual_patient import IndividualPatientModel"
   ]
  },
  {
   "cell_type": "code",
   "execution_count": 2,
   "metadata": {},
   "outputs": [],
   "source": [
    "patient = {\n",
    "    'infarction': 1,\n",
    "    'prior_disability': 0,\n",
    "    'stroke_severity': 12,\n",
    "    'stroke_team': \"Royal Lancaster Infirmary\",\n",
    "    'onset_to_arrival_time': 120,\n",
    "    'precise_onset_known': 1,\n",
    "    'onset_during_sleep': 0,\n",
    "    'onset_to_thrombolysis': 240,\n",
    "    'age': 75,\n",
    "    'any_afib_diagnosis': 0,\n",
    "    'afib_anticoagulant': 0    }"
   ]
  },
  {
   "cell_type": "markdown",
   "metadata": {},
   "source": []
  },
  {
   "cell_type": "code",
   "execution_count": 3,
   "metadata": {},
   "outputs": [],
   "source": [
    "pm = IndividualPatientModel()\n",
    "\n",
    "# Retrain models if data changes\n",
    "# pm.train_models()"
   ]
  }
 ],
 "metadata": {
  "kernelspec": {
   "display_name": "samprod",
   "language": "python",
   "name": "python3"
  },
  "language_info": {
   "codemirror_mode": {
    "name": "ipython",
    "version": 3
   },
   "file_extension": ".py",
   "mimetype": "text/x-python",
   "name": "python",
   "nbconvert_exporter": "python",
   "pygments_lexer": "ipython3",
   "version": "3.10.13"
  }
 },
 "nbformat": 4,
 "nbformat_minor": 2
}
