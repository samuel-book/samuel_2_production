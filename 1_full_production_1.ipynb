{
 "cells": [
  {
   "cell_type": "markdown",
   "metadata": {},
   "source": [
    "# SAMueL-2 full production analysis"
   ]
  },
  {
   "cell_type": "markdown",
   "metadata": {},
   "source": [
    "## Import packages"
   ]
  },
  {
   "cell_type": "code",
   "execution_count": 1,
   "metadata": {
    "is_executing": true
   },
   "outputs": [],
   "source": [
    "import warnings\n",
    "warnings.filterwarnings(\"ignore\")\n",
    "\n",
    "import matplotlib.pyplot as plt\n",
    "import numpy as np\n",
    "import pandas as pd\n",
    "from utils.data_process import DataProcess\n",
    "from utils.descriptive_stats import DescriptiveStatistics\n",
    "from utils.pathway import Pathway\n",
    "from utils.reporting import GlobalReport\n",
    "from utils.thrombolysis_choice_model import ThrombolysisChoiceModel\n",
    "from utils.thrombolysis_outcome_model import OutcomeModel"
   ]
  },
  {
   "cell_type": "markdown",
   "metadata": {},
   "source": [
    "## Create data for models\n",
    "\n",
    "See 'data' folder for processing of raw data."
   ]
  },
  {
   "cell_type": "code",
   "execution_count": 2,
   "metadata": {
    "ExecuteTime": {
     "end_time": "2023-11-16T08:30:18.211293443Z",
     "start_time": "2023-11-16T08:30:18.209031340Z"
    }
   },
   "outputs": [
    {
     "name": "stdout",
     "output_type": "stream",
     "text": [
      "All rows: 283285, ML rows:119897, Fraction: 0.42\n"
     ]
    }
   ],
   "source": [
    "data_processor = DataProcess(\n",
    "    year_min=2016,\n",
    "    year_max=2021,\n",
    "    limit_to_ambo=True,\n",
    ")\n",
    "\n",
    "data_processor.run()"
   ]
  },
  {
   "cell_type": "markdown",
   "metadata": {},
   "source": [
    "## Model Run"
   ]
  },
  {
   "cell_type": "code",
   "execution_count": 3,
   "metadata": {},
   "outputs": [
    {
     "name": "stdout",
     "output_type": "stream",
     "text": [
      "Outcome multiclass ROC AUC 0.780\n"
     ]
    }
   ],
   "source": [
    "run_model = True\n",
    "\n",
    "if run_model:\n",
    "    # Descriptive statistics\n",
    "    ds = DescriptiveStatistics()\n",
    "    #ds.run()\n",
    "    \n",
    "    # Thrombolysis decision model\n",
    "    thrombolysis_choice_model = ThrombolysisChoiceModel()\n",
    "    #thrombolysis_choice_model.run()\n",
    "\n",
    "    # Outcome model\n",
    "    outcome_model = OutcomeModel()\n",
    "    outcome_model.run()\n",
    "\n",
    "    # Pathway simulation\n",
    "    \n",
    "    \"\"\"\n",
    "    pathway = Pathway(\n",
    "        data_processor.pathway_simulation_parameters,\n",
    "        thrombolysis_choice_model.benchmark_thrombolysis,\n",
    "        trials=100)\n",
    "    pathway.run()\n",
    "    \"\"\""
   ]
  },
  {
   "cell_type": "code",
   "execution_count": null,
   "metadata": {},
   "outputs": [],
   "source": []
  },
  {
   "cell_type": "code",
   "execution_count": 4,
   "metadata": {},
   "outputs": [
    {
     "data": {
      "text/plain": [
       "2.8243998825172665"
      ]
     },
     "execution_count": 4,
     "metadata": {},
     "output_type": "execute_result"
    }
   ],
   "source": [
    "outcome_model.all_patients_outcomes_untreated_weighted_mrs.mean()"
   ]
  },
  {
   "cell_type": "code",
   "execution_count": 5,
   "metadata": {},
   "outputs": [
    {
     "data": {
      "text/plain": [
       "2.648411869605055"
      ]
     },
     "execution_count": 5,
     "metadata": {},
     "output_type": "execute_result"
    }
   ],
   "source": [
    "outcome_model.all_patients_outcomes_treated_weighted_mrs.mean()\n"
   ]
  },
  {
   "cell_type": "code",
   "execution_count": 6,
   "metadata": {},
   "outputs": [
    {
     "data": {
      "text/plain": [
       "0.5576996875171317"
      ]
     },
     "execution_count": 6,
     "metadata": {},
     "output_type": "execute_result"
    }
   ],
   "source": [
    "outcome_model.all_patients_outcomes_improved.mean()"
   ]
  },
  {
   "cell_type": "code",
   "execution_count": 7,
   "metadata": {},
   "outputs": [
    {
     "data": {
      "text/plain": [
       "(array([  33.,   27.,   31.,   51.,   60.,   56.,   81.,   78.,  110.,\n",
       "         121.,  123.,  149.,  169.,  214.,  238.,  271.,  344.,  358.,\n",
       "         412.,  446.,  518.,  609.,  662.,  825.,  902.,  964., 1062.,\n",
       "        1121., 1240., 1168., 1043.,  789.,  651.,  529.,  456.,  347.,\n",
       "         272.,  229.,  237.,  179.,  149.,  122.,   95.,   93.,   71.,\n",
       "          52.,   42.,   40.,   42.,   31.,   29.,   15.,   15.,   15.,\n",
       "           9.,    6.,   14.,   13.,    7.,   13.]),\n",
       " array([-1.50000000e+00, -1.45000000e+00, -1.40000000e+00, -1.35000000e+00,\n",
       "        -1.30000000e+00, -1.25000000e+00, -1.20000000e+00, -1.15000000e+00,\n",
       "        -1.10000000e+00, -1.05000000e+00, -1.00000000e+00, -9.50000000e-01,\n",
       "        -9.00000000e-01, -8.50000000e-01, -8.00000000e-01, -7.50000000e-01,\n",
       "        -7.00000000e-01, -6.50000000e-01, -6.00000000e-01, -5.50000000e-01,\n",
       "        -5.00000000e-01, -4.50000000e-01, -4.00000000e-01, -3.50000000e-01,\n",
       "        -3.00000000e-01, -2.50000000e-01, -2.00000000e-01, -1.50000000e-01,\n",
       "        -1.00000000e-01, -5.00000000e-02,  1.33226763e-15,  5.00000000e-02,\n",
       "         1.00000000e-01,  1.50000000e-01,  2.00000000e-01,  2.50000000e-01,\n",
       "         3.00000000e-01,  3.50000000e-01,  4.00000000e-01,  4.50000000e-01,\n",
       "         5.00000000e-01,  5.50000000e-01,  6.00000000e-01,  6.50000000e-01,\n",
       "         7.00000000e-01,  7.50000000e-01,  8.00000000e-01,  8.50000000e-01,\n",
       "         9.00000000e-01,  9.50000000e-01,  1.00000000e+00,  1.05000000e+00,\n",
       "         1.10000000e+00,  1.15000000e+00,  1.20000000e+00,  1.25000000e+00,\n",
       "         1.30000000e+00,  1.35000000e+00,  1.40000000e+00,  1.45000000e+00,\n",
       "         1.50000000e+00]),\n",
       " <BarContainer object of 60 artists>)"
      ]
     },
     "execution_count": 7,
     "metadata": {},
     "output_type": "execute_result"
    },
    {
     "data": {
      "image/png": "[encoded data removed]",
      "text/plain": [
       "<Figure size 640x480 with 1 Axes>"
      ]
     },
     "metadata": {},
     "output_type": "display_data"
    }
   ],
   "source": [
    "diff = outcome_model.all_patients_outcomes_treated_weighted_mrs - outcome_model.all_patients_outcomes_untreated_weighted_mrs\n",
    "# Plot histogram of difference in mRS\n",
    "plt.hist(diff, bins=np.arange(-1.5,1.51,0.05))"
   ]
  },
  {
   "cell_type": "code",
   "execution_count": null,
   "metadata": {},
   "outputs": [],
   "source": []
  },
  {
   "cell_type": "code",
   "execution_count": 8,
   "metadata": {},
   "outputs": [
    {
     "data": {
      "text/plain": [
       "array([0.08543087, 0.98097366, 0.4314919 , ..., 0.9835231 , 0.9551714 ,\n",
       "       0.20346844], dtype=float32)"
      ]
     },
     "execution_count": 8,
     "metadata": {},
     "output_type": "execute_result"
    }
   ],
   "source": [
    "outcome_model.all_patients_outcomes_treated[:, 0:5].sum(axis=1)"
   ]
  },
  {
   "cell_type": "code",
   "execution_count": 9,
   "metadata": {},
   "outputs": [
    {
     "data": {
      "text/plain": [
       "array([[0.00114461, 0.00549417, 0.00402922, 0.01022931, 0.06453355],\n",
       "       [0.03366897, 0.08689027, 0.13278343, 0.6162677 , 0.11136328],\n",
       "       [0.03796437, 0.05565274, 0.0898882 , 0.10769137, 0.14029522],\n",
       "       ...,\n",
       "       [0.01959736, 0.12009063, 0.38721466, 0.4355573 , 0.0210631 ],\n",
       "       [0.03779501, 0.42935014, 0.24704014, 0.14365086, 0.09733527],\n",
       "       [0.01676229, 0.04474084, 0.01191461, 0.09064182, 0.0394089 ]],\n",
       "      dtype=float32)"
      ]
     },
     "execution_count": 9,
     "metadata": {},
     "output_type": "execute_result"
    }
   ],
   "source": [
    "outcome_model.all_patients_outcomes_treated[:, 0:5]"
   ]
  },
  {
   "cell_type": "markdown",
   "metadata": {},
   "source": [
    "## Reporting"
   ]
  },
  {
   "cell_type": "code",
   "execution_count": 10,
   "metadata": {},
   "outputs": [],
   "source": [
    "report = GlobalReport()\n",
    "report.create_report()"
   ]
  }
 ],
 "metadata": {
  "kernelspec": {
   "display_name": "sam10",
   "language": "python",
   "name": "python3"
  },
  "language_info": {
   "codemirror_mode": {
    "name": "ipython",
    "version": 3
   },
   "file_extension": ".py",
   "mimetype": "text/x-python",
   "name": "python",
   "nbconvert_exporter": "python",
   "pygments_lexer": "ipython3",
   "version": "3.10.13"
  }
 },
 "nbformat": 4,
 "nbformat_minor": 2
}
