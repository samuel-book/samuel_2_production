{
 "cells": [
  {
   "cell_type": "markdown",
   "metadata": {},
   "source": [
    "# SAMueL-2 full production analysis"
   ]
  },
  {
   "cell_type": "markdown",
   "metadata": {},
   "source": [
    "## Import packages"
   ]
  },
  {
   "cell_type": "code",
   "execution_count": 1,
   "metadata": {
    "is_executing": true
   },
   "outputs": [],
   "source": [
    "import warnings\n",
    "warnings.filterwarnings(\"ignore\")\n",
    "\n",
    "import numpy as np\n",
    "import pandas as pd\n",
    "from utils.data_process import DataProcess\n",
    "from utils.descriptive_stats import DescriptiveStatistics\n",
    "from utils.pathway import Pathway\n",
    "from utils.reporting import GlobalReport\n",
    "from utils.thrombolysis_choice_model import ThrombolysisChoiceModel\n",
    "from utils.thrombolysis_outcome_model import OutcomeModel"
   ]
  },
  {
   "cell_type": "markdown",
   "metadata": {},
   "source": [
    "## Create data for models\n",
    "\n",
    "See 'data' folder for processing of raw data."
   ]
  },
  {
   "cell_type": "code",
   "execution_count": 2,
   "metadata": {
    "ExecuteTime": {
     "end_time": "2023-11-16T08:30:18.211293443Z",
     "start_time": "2023-11-16T08:30:18.209031340Z"
    }
   },
   "outputs": [
    {
     "name": "stdout",
     "output_type": "stream",
     "text": [
      "All rows: 302719, ML rows:110981, Fraction: 0.37\n"
     ]
    }
   ],
   "source": [
    "data_processor = DataProcess(\n",
    "    year_min=2016,\n",
    "    year_max=2021,\n",
    "    limit_to_ambo=False,\n",
    ")\n",
    "\n",
    "data_processor.run()"
   ]
  },
  {
   "cell_type": "markdown",
   "metadata": {},
   "source": [
    "## Model Run"
   ]
  },
  {
   "cell_type": "code",
   "execution_count": 3,
   "metadata": {},
   "outputs": [
    {
     "name": "stdout",
     "output_type": "stream",
     "text": [
      "Accuracy: 0.849\n",
      "Balanced accuracy: 0.820\n",
      "ROC AUC: 0.916\n",
      "Actual thrombolysis: 0.300\n",
      "Predicted thrombolysis: 0.298\n",
      "Outcome multiclass ROC AUC 0.811\n"
     ]
    },
    {
     "ename": "ValueError",
     "evalue": "p < 0, p > 1 or p is NaN",
     "output_type": "error",
     "traceback": [
      "\u001b[0;31m---------------------------------------------------------------------------\u001b[0m",
      "\u001b[0;31mValueError\u001b[0m                                Traceback (most recent call last)",
      "Cell \u001b[0;32mIn[3], line 22\u001b[0m\n\u001b[1;32m     16\u001b[0m \u001b[38;5;66;03m# Pathway simulation\u001b[39;00m\n\u001b[1;32m     18\u001b[0m pathway \u001b[38;5;241m=\u001b[39m Pathway(\n\u001b[1;32m     19\u001b[0m     data_processor\u001b[38;5;241m.\u001b[39mpathway_simulation_parameters,\n\u001b[1;32m     20\u001b[0m     thrombolysis_choice_model\u001b[38;5;241m.\u001b[39mbenchmark_thrombolysis,\n\u001b[1;32m     21\u001b[0m     trials\u001b[38;5;241m=\u001b[39m\u001b[38;5;241m100\u001b[39m)\n\u001b[0;32m---> 22\u001b[0m \u001b[43mpathway\u001b[49m\u001b[38;5;241;43m.\u001b[39;49m\u001b[43mrun\u001b[49m\u001b[43m(\u001b[49m\u001b[43m)\u001b[49m\n",
      "File \u001b[0;32m~/Current_GitHub/samuel_2_production/utils/pathway.py:340\u001b[0m, in \u001b[0;36mPathway.run\u001b[0;34m(self)\u001b[0m\n\u001b[1;32m    337\u001b[0m \u001b[38;5;250m\u001b[39m\u001b[38;5;124;03m\"\"\"Model scenarios\"\"\"\u001b[39;00m\n\u001b[1;32m    339\u001b[0m \u001b[38;5;66;03m# Run base case scenario\u001b[39;00m\n\u001b[0;32m--> 340\u001b[0m \u001b[38;5;28mself\u001b[39m\u001b[38;5;241m.\u001b[39msim_results \u001b[38;5;241m=\u001b[39m \u001b[38;5;28;43mself\u001b[39;49m\u001b[38;5;241;43m.\u001b[39;49m\u001b[43mmodel_ssnap_pathway_scenarios\u001b[49m\u001b[43m(\u001b[49m\u001b[38;5;28;43mself\u001b[39;49m\u001b[38;5;241;43m.\u001b[39;49m\u001b[43mhospital_performance_original\u001b[49m\u001b[43m)\u001b[49m\n\u001b[1;32m    341\u001b[0m \u001b[38;5;28mself\u001b[39m\u001b[38;5;241m.\u001b[39msim_results[\u001b[38;5;124m'\u001b[39m\u001b[38;5;124mscenario\u001b[39m\u001b[38;5;124m'\u001b[39m] \u001b[38;5;241m=\u001b[39m \u001b[38;5;124m'\u001b[39m\u001b[38;5;124mbase\u001b[39m\u001b[38;5;124m'\u001b[39m\n\u001b[1;32m    343\u001b[0m \u001b[38;5;66;03m############################################## \u001b[39;00m\n\u001b[1;32m    344\u001b[0m \u001b[38;5;66;03m# SPEED (30 minutes arrival to thrombolysis) #\u001b[39;00m\n\u001b[1;32m    345\u001b[0m \u001b[38;5;66;03m##############################################\u001b[39;00m\n\u001b[1;32m    346\u001b[0m \n\u001b[1;32m    347\u001b[0m \u001b[38;5;66;03m# Create scenarios\u001b[39;00m\n",
      "File \u001b[0;32m~/Current_GitHub/samuel_2_production/utils/pathway.py:118\u001b[0m, in \u001b[0;36mPathway.model_ssnap_pathway_scenarios\u001b[0;34m(self, hospital_performance)\u001b[0m\n\u001b[1;32m    114\u001b[0m patients_per_run \u001b[38;5;241m=\u001b[39m \u001b[38;5;28mint\u001b[39m(run_data[\u001b[38;5;124m'\u001b[39m\u001b[38;5;124madmissions\u001b[39m\u001b[38;5;124m'\u001b[39m])\n\u001b[1;32m    115\u001b[0m patient_array \u001b[38;5;241m=\u001b[39m np\u001b[38;5;241m.\u001b[39mzeros((patients_per_run, \u001b[38;5;241m23\u001b[39m))\n\u001b[1;32m    117\u001b[0m patient_array[:, \u001b[38;5;241m0\u001b[39m] \u001b[38;5;241m=\u001b[39m \\\n\u001b[0;32m--> 118\u001b[0m     \u001b[43mnp\u001b[49m\u001b[38;5;241;43m.\u001b[39;49m\u001b[43mrandom\u001b[49m\u001b[38;5;241;43m.\u001b[39;49m\u001b[43mbinomial\u001b[49m\u001b[43m(\u001b[49m\u001b[38;5;241;43m1\u001b[39;49m\u001b[43m,\u001b[49m\u001b[43m \u001b[49m\u001b[43mrun_data\u001b[49m\u001b[43m[\u001b[49m\u001b[38;5;124;43m'\u001b[39;49m\u001b[38;5;124;43m80_plus\u001b[39;49m\u001b[38;5;124;43m'\u001b[39;49m\u001b[43m]\u001b[49m\u001b[43m,\u001b[49m\u001b[43m \u001b[49m\u001b[43mpatients_per_run\u001b[49m\u001b[43m)\u001b[49m\n\u001b[1;32m    120\u001b[0m \u001b[38;5;66;03m# Assign allowable onset to needle (for under 80 and 80+)\u001b[39;00m\n\u001b[1;32m    121\u001b[0m patient_array[patient_array[:, \u001b[38;5;241m0\u001b[39m] \u001b[38;5;241m==\u001b[39m \u001b[38;5;241m0\u001b[39m, \u001b[38;5;241m1\u001b[39m] \u001b[38;5;241m=\u001b[39m \\\n\u001b[1;32m    122\u001b[0m     allowed_onset_to_needle[\u001b[38;5;241m0\u001b[39m]\n",
      "File \u001b[0;32mnumpy/random/mtrand.pyx:3485\u001b[0m, in \u001b[0;36mnumpy.random.mtrand.RandomState.binomial\u001b[0;34m()\u001b[0m\n",
      "File \u001b[0;32m_common.pyx:430\u001b[0m, in \u001b[0;36mnumpy.random._common.check_constraint\u001b[0;34m()\u001b[0m\n",
      "\u001b[0;31mValueError\u001b[0m: p < 0, p > 1 or p is NaN"
     ]
    }
   ],
   "source": [
    "run_model = True\n",
    "\n",
    "if run_model:\n",
    "    # Descriptive statistics\n",
    "    ds = DescriptiveStatistics()\n",
    "    #ds.run()\n",
    "    \n",
    "    # Thrombolysis decision model\n",
    "    thrombolysis_choice_model = ThrombolysisChoiceModel()\n",
    "    thrombolysis_choice_model.run()\n",
    "\n",
    "    # Outcome model\n",
    "    outcome_model = OutcomeModel()\n",
    "    outcome_model.run()\n",
    "\n",
    "    # Pathway simulation\n",
    "    \n",
    "    pathway = Pathway(\n",
    "        data_processor.pathway_simulation_parameters,\n",
    "        thrombolysis_choice_model.benchmark_thrombolysis,\n",
    "        trials=100)\n",
    "    pathway.run()"
   ]
  },
  {
   "cell_type": "markdown",
   "metadata": {},
   "source": [
    "## Reporting"
   ]
  },
  {
   "cell_type": "code",
   "execution_count": null,
   "metadata": {},
   "outputs": [],
   "source": [
    "report = GlobalReport()\n",
    "report.create_report()"
   ]
  },
  {
   "cell_type": "markdown",
   "metadata": {},
   "source": [
    "## To Do\n",
    "\n",
    "* Restrict stroke units to minimum admissions and thrombolysis use (can currently crash with restricted data years)"
   ]
  }
 ],
 "metadata": {
  "kernelspec": {
   "display_name": "sam10",
   "language": "python",
   "name": "python3"
  },
  "language_info": {
   "codemirror_mode": {
    "name": "ipython",
    "version": 3
   },
   "file_extension": ".py",
   "mimetype": "text/x-python",
   "name": "python",
   "nbconvert_exporter": "python",
   "pygments_lexer": "ipython3",
   "version": "3.10.13"
  }
 },
 "nbformat": 4,
 "nbformat_minor": 2
}
