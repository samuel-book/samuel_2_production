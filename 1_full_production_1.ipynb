{
 "cells": [
  {
   "cell_type": "markdown",
   "metadata": {},
   "source": [
    "# SAMueL-2 full production analysis"
   ]
  },
  {
   "cell_type": "markdown",
   "metadata": {},
   "source": [
    "## Import packages"
   ]
  },
  {
   "cell_type": "code",
   "execution_count": 1,
   "metadata": {
    "is_executing": true
   },
   "outputs": [],
   "source": [
    "import warnings\n",
    "warnings.filterwarnings(\"ignore\")\n",
    "\n",
    "import matplotlib.pyplot as plt\n",
    "import numpy as np\n",
    "import pandas as pd\n",
    "from utils.data_process import DataProcess\n",
    "from utils.descriptive_stats import DescriptiveStatistics\n",
    "from utils.pathway import Pathway\n",
    "from utils.reporting import GlobalReport\n",
    "from utils.thrombolysis_choice_model import ThrombolysisChoiceModel\n",
    "from utils.thrombolysis_outcome_model import OutcomeModel"
   ]
  },
  {
   "cell_type": "markdown",
   "metadata": {},
   "source": [
    "## Create data for models\n",
    "\n",
    "See 'data' folder for processing of raw data."
   ]
  },
  {
   "cell_type": "code",
   "execution_count": 2,
   "metadata": {
    "ExecuteTime": {
     "end_time": "2023-11-16T08:30:18.211293443Z",
     "start_time": "2023-11-16T08:30:18.209031340Z"
    }
   },
   "outputs": [
    {
     "name": "stdout",
     "output_type": "stream",
     "text": [
      "All rows: 283226, ML rows:119875, Fraction: 0.42\n"
     ]
    }
   ],
   "source": [
    "data_processor = DataProcess(\n",
    "    year_min=2016,\n",
    "    year_max=2021,\n",
    "    limit_to_ambo=True,\n",
    ")\n",
    "\n",
    "data_processor.run()"
   ]
  },
  {
   "cell_type": "markdown",
   "metadata": {},
   "source": [
    "## Model Run"
   ]
  },
  {
   "cell_type": "code",
   "execution_count": 3,
   "metadata": {},
   "outputs": [
    {
     "name": "stdout",
     "output_type": "stream",
     "text": [
      "Outcome multiclass ROC AUC 0.795\n"
     ]
    }
   ],
   "source": [
    "run_model = True\n",
    "\n",
    "if run_model:\n",
    "    # Descriptive statistics\n",
    "    ds = DescriptiveStatistics()\n",
    "    #ds.run()\n",
    "    \n",
    "    # Thrombolysis decision model\n",
    "    thrombolysis_choice_model = ThrombolysisChoiceModel()\n",
    "    #thrombolysis_choice_model.run()\n",
    "\n",
    "    # Outcome model\n",
    "    outcome_model = OutcomeModel()\n",
    "    outcome_model.run()\n",
    "\n",
    "    # Pathway simulation\n",
    "    \n",
    "    \"\"\"\n",
    "    pathway = Pathway(\n",
    "        data_processor.pathway_simulation_parameters,\n",
    "        thrombolysis_choice_model.benchmark_thrombolysis,\n",
    "        trials=100)\n",
    "    pathway.run()\n",
    "    \"\"\""
   ]
  },
  {
   "cell_type": "code",
   "execution_count": null,
   "metadata": {},
   "outputs": [],
   "source": []
  },
  {
   "cell_type": "code",
   "execution_count": 4,
   "metadata": {},
   "outputs": [
    {
     "data": {
      "text/plain": [
       "2.7531715244804653"
      ]
     },
     "execution_count": 4,
     "metadata": {},
     "output_type": "execute_result"
    }
   ],
   "source": [
    "outcome_model.all_patients_outcomes_untreated_weighted_mrs.mean()"
   ]
  },
  {
   "cell_type": "code",
   "execution_count": 5,
   "metadata": {},
   "outputs": [
    {
     "data": {
      "text/plain": [
       "2.6105139675365416"
      ]
     },
     "execution_count": 5,
     "metadata": {},
     "output_type": "execute_result"
    }
   ],
   "source": [
    "outcome_model.all_patients_outcomes_treated_weighted_mrs.mean()\n"
   ]
  },
  {
   "cell_type": "code",
   "execution_count": 6,
   "metadata": {},
   "outputs": [
    {
     "data": {
      "text/plain": [
       "0.5482985660871427"
      ]
     },
     "execution_count": 6,
     "metadata": {},
     "output_type": "execute_result"
    }
   ],
   "source": [
    "outcome_model.all_patients_outcomes_improved.mean()"
   ]
  },
  {
   "cell_type": "code",
   "execution_count": 7,
   "metadata": {},
   "outputs": [
    {
     "data": {
      "text/plain": [
       "(array([1.500e+01, 1.700e+01, 2.200e+01, 3.300e+01, 4.500e+01, 5.700e+01,\n",
       "        6.600e+01, 1.190e+02, 1.020e+02, 1.730e+02, 2.210e+02, 2.430e+02,\n",
       "        3.240e+02, 4.140e+02, 5.470e+02, 7.200e+02, 9.360e+02, 1.177e+03,\n",
       "        1.512e+03, 1.937e+03, 2.194e+03, 2.700e+03, 3.149e+03, 3.801e+03,\n",
       "        4.409e+03, 4.840e+03, 5.663e+03, 6.555e+03, 7.445e+03, 7.332e+03,\n",
       "        5.773e+03, 4.186e+03, 3.052e+03, 2.322e+03, 1.663e+03, 1.262e+03,\n",
       "        1.067e+03, 7.070e+02, 5.240e+02, 3.930e+02, 3.280e+02, 2.580e+02,\n",
       "        1.850e+02, 1.630e+02, 1.050e+02, 1.200e+02, 8.100e+01, 5.800e+01,\n",
       "        6.100e+01, 3.700e+01, 3.800e+01, 3.400e+01, 3.000e+01, 2.700e+01,\n",
       "        2.400e+01, 2.400e+01, 1.700e+01, 8.000e+00, 1.300e+01, 7.000e+00]),\n",
       " array([-1.50000000e+00, -1.45000000e+00, -1.40000000e+00, -1.35000000e+00,\n",
       "        -1.30000000e+00, -1.25000000e+00, -1.20000000e+00, -1.15000000e+00,\n",
       "        -1.10000000e+00, -1.05000000e+00, -1.00000000e+00, -9.50000000e-01,\n",
       "        -9.00000000e-01, -8.50000000e-01, -8.00000000e-01, -7.50000000e-01,\n",
       "        -7.00000000e-01, -6.50000000e-01, -6.00000000e-01, -5.50000000e-01,\n",
       "        -5.00000000e-01, -4.50000000e-01, -4.00000000e-01, -3.50000000e-01,\n",
       "        -3.00000000e-01, -2.50000000e-01, -2.00000000e-01, -1.50000000e-01,\n",
       "        -1.00000000e-01, -5.00000000e-02,  1.33226763e-15,  5.00000000e-02,\n",
       "         1.00000000e-01,  1.50000000e-01,  2.00000000e-01,  2.50000000e-01,\n",
       "         3.00000000e-01,  3.50000000e-01,  4.00000000e-01,  4.50000000e-01,\n",
       "         5.00000000e-01,  5.50000000e-01,  6.00000000e-01,  6.50000000e-01,\n",
       "         7.00000000e-01,  7.50000000e-01,  8.00000000e-01,  8.50000000e-01,\n",
       "         9.00000000e-01,  9.50000000e-01,  1.00000000e+00,  1.05000000e+00,\n",
       "         1.10000000e+00,  1.15000000e+00,  1.20000000e+00,  1.25000000e+00,\n",
       "         1.30000000e+00,  1.35000000e+00,  1.40000000e+00,  1.45000000e+00,\n",
       "         1.50000000e+00]),\n",
       " <BarContainer object of 60 artists>)"
      ]
     },
     "execution_count": 7,
     "metadata": {},
     "output_type": "execute_result"
    },
    {
     "data": {
      "image/png": "[encoded data removed]",
      "text/plain": [
       "<Figure size 640x480 with 1 Axes>"
      ]
     },
     "metadata": {},
     "output_type": "display_data"
    }
   ],
   "source": [
    "diff = outcome_model.all_patients_outcomes_treated_weighted_mrs - outcome_model.all_patients_outcomes_untreated_weighted_mrs\n",
    "# Plot histogram of difference in mRS\n",
    "plt.hist(diff, bins=np.arange(-1.5,1.51,0.05))"
   ]
  },
  {
   "cell_type": "code",
   "execution_count": null,
   "metadata": {},
   "outputs": [],
   "source": []
  },
  {
   "cell_type": "code",
   "execution_count": 8,
   "metadata": {},
   "outputs": [
    {
     "data": {
      "text/plain": [
       "array([0.95344937, 0.18646605, 0.6852014 , ..., 0.9819784 , 0.9310249 ,\n",
       "       0.761091  ], dtype=float32)"
      ]
     },
     "execution_count": 8,
     "metadata": {},
     "output_type": "execute_result"
    }
   ],
   "source": [
    "outcome_model.all_patients_outcomes_treated[:, 0:5].sum(axis=1)"
   ]
  },
  {
   "cell_type": "code",
   "execution_count": 9,
   "metadata": {},
   "outputs": [
    {
     "data": {
      "text/plain": [
       "array([[0.1489871 , 0.29449347, 0.2150955 , 0.13389911, 0.1609742 ],\n",
       "       [0.00280784, 0.00333928, 0.00309516, 0.0082126 , 0.16901118],\n",
       "       [0.0068168 , 0.02002584, 0.05591718, 0.32677066, 0.27567098],\n",
       "       ...,\n",
       "       [0.08648558, 0.09076235, 0.10630733, 0.06223492, 0.6361882 ],\n",
       "       [0.23064001, 0.2783478 , 0.21072897, 0.15906106, 0.05224703],\n",
       "       [0.12416012, 0.28772572, 0.14261802, 0.1433071 , 0.06328002]],\n",
       "      dtype=float32)"
      ]
     },
     "execution_count": 9,
     "metadata": {},
     "output_type": "execute_result"
    }
   ],
   "source": [
    "outcome_model.all_patients_outcomes_treated[:, 0:5]"
   ]
  },
  {
   "cell_type": "markdown",
   "metadata": {},
   "source": [
    "## Reporting"
   ]
  },
  {
   "cell_type": "code",
   "execution_count": 10,
   "metadata": {},
   "outputs": [],
   "source": [
    "report = GlobalReport()\n",
    "report.create_report()"
   ]
  }
 ],
 "metadata": {
  "kernelspec": {
   "display_name": "sam10",
   "language": "python",
   "name": "python3"
  },
  "language_info": {
   "codemirror_mode": {
    "name": "ipython",
    "version": 3
   },
   "file_extension": ".py",
   "mimetype": "text/x-python",
   "name": "python",
   "nbconvert_exporter": "python",
   "pygments_lexer": "ipython3",
   "version": "3.10.13"
  }
 },
 "nbformat": 4,
 "nbformat_minor": 2
}
