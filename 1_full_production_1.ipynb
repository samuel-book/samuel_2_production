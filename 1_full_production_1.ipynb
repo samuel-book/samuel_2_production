{
 "cells": [
  {
   "cell_type": "markdown",
   "metadata": {},
   "source": [
    "# SAMueL-2 full production analysis"
   ]
  },
  {
   "cell_type": "markdown",
   "metadata": {},
   "source": [
    "## Import packages"
   ]
  },
  {
   "cell_type": "code",
   "execution_count": 1,
   "metadata": {
    "is_executing": true
   },
   "outputs": [],
   "source": [
    "import warnings\n",
    "warnings.filterwarnings(\"ignore\")\n",
    "\n",
    "import matplotlib.pyplot as plt\n",
    "import numpy as np\n",
    "import pandas as pd\n",
    "from utils.data_process import DataProcess\n",
    "from utils.descriptive_stats import DescriptiveStatistics\n",
    "from utils.pathway import Pathway\n",
    "from utils.reporting import GlobalReport\n",
    "from utils.thrombolysis_choice_model import ThrombolysisChoiceModel\n",
    "from utils.thrombolysis_outcome_model import OutcomeModel"
   ]
  },
  {
   "cell_type": "markdown",
   "metadata": {},
   "source": [
    "## Create data for models\n",
    "\n",
    "See 'data' folder for processing of raw data."
   ]
  },
  {
   "cell_type": "code",
   "execution_count": 2,
   "metadata": {
    "ExecuteTime": {
     "end_time": "2023-11-16T08:30:18.211293443Z",
     "start_time": "2023-11-16T08:30:18.209031340Z"
    }
   },
   "outputs": [
    {
     "name": "stdout",
     "output_type": "stream",
     "text": [
      "All rows: 283285, ML rows:119897, Fraction: 0.42\n"
     ]
    }
   ],
   "source": [
    "data_processor = DataProcess(\n",
    "    year_min=2016,\n",
    "    year_max=2021,\n",
    "    limit_to_ambo=True,\n",
    ")\n",
    "\n",
    "data_processor.run()"
   ]
  },
  {
   "cell_type": "markdown",
   "metadata": {},
   "source": [
    "## Model Run"
   ]
  },
  {
   "cell_type": "code",
   "execution_count": 3,
   "metadata": {},
   "outputs": [
    {
     "name": "stdout",
     "output_type": "stream",
     "text": [
      "Outcome multiclass ROC AUC 0.777\n"
     ]
    }
   ],
   "source": [
    "run_model = True\n",
    "\n",
    "if run_model:\n",
    "    # Descriptive statistics\n",
    "    ds = DescriptiveStatistics()\n",
    "    #ds.run()\n",
    "    \n",
    "    # Thrombolysis decision model\n",
    "    thrombolysis_choice_model = ThrombolysisChoiceModel()\n",
    "    #thrombolysis_choice_model.run()\n",
    "\n",
    "    # Outcome model\n",
    "    outcome_model = OutcomeModel()\n",
    "    outcome_model.run()\n",
    "\n",
    "    # Pathway simulation\n",
    "    \n",
    "    \"\"\"\n",
    "    pathway = Pathway(\n",
    "        data_processor.pathway_simulation_parameters,\n",
    "        thrombolysis_choice_model.benchmark_thrombolysis,\n",
    "        trials=100)\n",
    "    pathway.run()\n",
    "    \"\"\""
   ]
  },
  {
   "cell_type": "code",
   "execution_count": null,
   "metadata": {},
   "outputs": [],
   "source": []
  },
  {
   "cell_type": "code",
   "execution_count": 4,
   "metadata": {},
   "outputs": [
    {
     "data": {
      "text/plain": [
       "2.8155751777166373"
      ]
     },
     "execution_count": 4,
     "metadata": {},
     "output_type": "execute_result"
    }
   ],
   "source": [
    "outcome_model.all_patients_outcomes_untreated_weighted_mrs.mean()"
   ]
  },
  {
   "cell_type": "code",
   "execution_count": 5,
   "metadata": {},
   "outputs": [
    {
     "data": {
      "text/plain": [
       "2.6854073017632065"
      ]
     },
     "execution_count": 5,
     "metadata": {},
     "output_type": "execute_result"
    }
   ],
   "source": [
    "outcome_model.all_patients_outcomes_treated_weighted_mrs.mean()\n"
   ]
  },
  {
   "cell_type": "code",
   "execution_count": 6,
   "metadata": {},
   "outputs": [
    {
     "data": {
      "text/plain": [
       "0.5232169288964421"
      ]
     },
     "execution_count": 6,
     "metadata": {},
     "output_type": "execute_result"
    }
   ],
   "source": [
    "outcome_model.all_patients_outcomes_improved.mean()"
   ]
  },
  {
   "cell_type": "code",
   "execution_count": 7,
   "metadata": {},
   "outputs": [
    {
     "data": {
      "text/plain": [
       "(array([  17.,   21.,   41.,   38.,   36.,   44.,   55.,   42.,   69.,\n",
       "          68.,   77.,  122.,  115.,  154.,  197.,  203.,  259.,  295.,\n",
       "         371.,  444.,  477.,  607.,  630.,  754.,  912., 1026., 1099.,\n",
       "        1190., 1235., 1187., 1003.,  852.,  688.,  600.,  495.,  417.,\n",
       "         338.,  301.,  233.,  214.,  179.,  154.,  110.,  115.,  100.,\n",
       "          67.,   67.,   58.,   49.,   36.,   26.,   34.,   29.,   17.,\n",
       "          13.,   17.,   10.,    6.,    6.,    9.]),\n",
       " array([-1.50000000e+00, -1.45000000e+00, -1.40000000e+00, -1.35000000e+00,\n",
       "        -1.30000000e+00, -1.25000000e+00, -1.20000000e+00, -1.15000000e+00,\n",
       "        -1.10000000e+00, -1.05000000e+00, -1.00000000e+00, -9.50000000e-01,\n",
       "        -9.00000000e-01, -8.50000000e-01, -8.00000000e-01, -7.50000000e-01,\n",
       "        -7.00000000e-01, -6.50000000e-01, -6.00000000e-01, -5.50000000e-01,\n",
       "        -5.00000000e-01, -4.50000000e-01, -4.00000000e-01, -3.50000000e-01,\n",
       "        -3.00000000e-01, -2.50000000e-01, -2.00000000e-01, -1.50000000e-01,\n",
       "        -1.00000000e-01, -5.00000000e-02,  1.33226763e-15,  5.00000000e-02,\n",
       "         1.00000000e-01,  1.50000000e-01,  2.00000000e-01,  2.50000000e-01,\n",
       "         3.00000000e-01,  3.50000000e-01,  4.00000000e-01,  4.50000000e-01,\n",
       "         5.00000000e-01,  5.50000000e-01,  6.00000000e-01,  6.50000000e-01,\n",
       "         7.00000000e-01,  7.50000000e-01,  8.00000000e-01,  8.50000000e-01,\n",
       "         9.00000000e-01,  9.50000000e-01,  1.00000000e+00,  1.05000000e+00,\n",
       "         1.10000000e+00,  1.15000000e+00,  1.20000000e+00,  1.25000000e+00,\n",
       "         1.30000000e+00,  1.35000000e+00,  1.40000000e+00,  1.45000000e+00,\n",
       "         1.50000000e+00]),\n",
       " <BarContainer object of 60 artists>)"
      ]
     },
     "execution_count": 7,
     "metadata": {},
     "output_type": "execute_result"
    },
    {
     "data": {
      "image/png": "[encoded data removed]",
      "text/plain": [
       "<Figure size 640x480 with 1 Axes>"
      ]
     },
     "metadata": {},
     "output_type": "display_data"
    }
   ],
   "source": [
    "diff = outcome_model.all_patients_outcomes_treated_weighted_mrs - outcome_model.all_patients_outcomes_untreated_weighted_mrs\n",
    "# Plot histogram of difference in mRS\n",
    "plt.hist(diff, bins=np.arange(-1.5,1.51,0.05))"
   ]
  },
  {
   "cell_type": "code",
   "execution_count": null,
   "metadata": {},
   "outputs": [],
   "source": []
  },
  {
   "cell_type": "code",
   "execution_count": 8,
   "metadata": {},
   "outputs": [
    {
     "data": {
      "text/plain": [
       "array([0.17784525, 0.8241513 , 0.9819058 , ..., 0.8968205 , 0.8047805 ,\n",
       "       0.79305667], dtype=float32)"
      ]
     },
     "execution_count": 8,
     "metadata": {},
     "output_type": "execute_result"
    }
   ],
   "source": [
    "outcome_model.all_patients_outcomes_treated[:, 0:5].sum(axis=1)"
   ]
  },
  {
   "cell_type": "code",
   "execution_count": 9,
   "metadata": {},
   "outputs": [
    {
     "data": {
      "text/plain": [
       "array([[1.19976304e-03, 3.24317312e-04, 1.81851734e-03, 4.36516386e-03,\n",
       "        1.70137495e-01],\n",
       "       [1.61775376e-03, 3.65692258e-01, 1.22955739e-01, 2.30466589e-01,\n",
       "        1.03418976e-01],\n",
       "       [3.74347240e-01, 3.53010088e-01, 9.48814005e-02, 1.43909186e-01,\n",
       "        1.57579239e-02],\n",
       "       ...,\n",
       "       [3.05220075e-02, 1.05151288e-01, 1.94372684e-01, 4.75624859e-01,\n",
       "        9.11496356e-02],\n",
       "       [2.76738475e-03, 7.65012670e-03, 5.25891595e-02, 5.21845579e-01,\n",
       "        2.19928294e-01],\n",
       "       [2.20204121e-03, 6.00540685e-03, 8.52037035e-03, 3.53372574e-01,\n",
       "        4.22956288e-01]], dtype=float32)"
      ]
     },
     "execution_count": 9,
     "metadata": {},
     "output_type": "execute_result"
    }
   ],
   "source": [
    "outcome_model.all_patients_outcomes_treated[:, 0:5]"
   ]
  },
  {
   "cell_type": "markdown",
   "metadata": {},
   "source": [
    "## Reporting"
   ]
  },
  {
   "cell_type": "code",
   "execution_count": 10,
   "metadata": {},
   "outputs": [],
   "source": [
    "report = GlobalReport()\n",
    "report.create_report()"
   ]
  }
 ],
 "metadata": {
  "kernelspec": {
   "display_name": "sam10",
   "language": "python",
   "name": "python3"
  },
  "language_info": {
   "codemirror_mode": {
    "name": "ipython",
    "version": 3
   },
   "file_extension": ".py",
   "mimetype": "text/x-python",
   "name": "python",
   "nbconvert_exporter": "python",
   "pygments_lexer": "ipython3",
   "version": "3.10.13"
  }
 },
 "nbformat": 4,
 "nbformat_minor": 2
}
