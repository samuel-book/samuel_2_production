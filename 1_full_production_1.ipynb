{
 "cells": [
  {
   "cell_type": "markdown",
   "metadata": {},
   "source": [
    "# SAMueL-2 full production analysis"
   ]
  },
  {
   "cell_type": "markdown",
   "metadata": {},
   "source": [
    "## Import packages"
   ]
  },
  {
   "cell_type": "code",
   "execution_count": 1,
   "metadata": {
    "is_executing": true
   },
   "outputs": [],
   "source": [
    "import warnings\n",
    "warnings.filterwarnings(\"ignore\")\n",
    "\n",
    "import pandas as pd\n",
    "from utils.data_process import DataProcess\n",
    "from utils.descriptive_stats import DescriptiveStatistics\n",
    "from utils.pathway import Pathway\n",
    "from utils.reporting import GlobalReport\n",
    "from utils.thrombolysis_choice_model import ThrombolysisChoiceModel\n",
    "from utils.thrombolysis_outcome_model import OutcomeModel"
   ]
  },
  {
   "cell_type": "markdown",
   "metadata": {},
   "source": [
    "## Create data for models\n",
    "\n",
    "See 'data' folder for processing of raw data."
   ]
  },
  {
   "cell_type": "code",
   "execution_count": 2,
   "metadata": {
    "ExecuteTime": {
     "end_time": "2023-11-16T08:30:18.211293443Z",
     "start_time": "2023-11-16T08:30:18.209031340Z"
    }
   },
   "outputs": [
    {
     "name": "stdout",
     "output_type": "stream",
     "text": [
      "All rows: 185673, ML rows:66820, Fraction: 0.36\n"
     ]
    }
   ],
   "source": [
    "data_processor = DataProcess(\n",
    "    year_min=2019,\n",
    "    year_max=2021,\n",
    "    limit_to_ambo=False,\n",
    ")\n",
    "\n",
    "data_processor.run()"
   ]
  },
  {
   "cell_type": "markdown",
   "metadata": {},
   "source": [
    "## Model Run"
   ]
  },
  {
   "cell_type": "code",
   "execution_count": 3,
   "metadata": {},
   "outputs": [
    {
     "ename": "AttributeError",
     "evalue": "'ThrombolysisChoiceModel' object has no attribute 'benchmark_thrombolysis'",
     "output_type": "error",
     "traceback": [
      "\u001b[0;31m---------------------------------------------------------------------------\u001b[0m",
      "\u001b[0;31mAttributeError\u001b[0m                            Traceback (most recent call last)",
      "\u001b[1;32m/home/michael/Current_GitHub/samuel_2_production/1_full_production_1.ipynb Cell 7\u001b[0m line \u001b[0;36m1\n\u001b[1;32m     <a href='vscode-notebook-cell:/home/michael/Current_GitHub/samuel_2_production/1_full_production_1.ipynb#W6sZmlsZQ%3D%3D?line=12'>13</a>\u001b[0m outcome_model \u001b[39m=\u001b[39m OutcomeModel()\n\u001b[1;32m     <a href='vscode-notebook-cell:/home/michael/Current_GitHub/samuel_2_production/1_full_production_1.ipynb#W6sZmlsZQ%3D%3D?line=13'>14</a>\u001b[0m \u001b[39m#outcome_model.run()\u001b[39;00m\n\u001b[1;32m     <a href='vscode-notebook-cell:/home/michael/Current_GitHub/samuel_2_production/1_full_production_1.ipynb#W6sZmlsZQ%3D%3D?line=14'>15</a>\u001b[0m \n\u001b[1;32m     <a href='vscode-notebook-cell:/home/michael/Current_GitHub/samuel_2_production/1_full_production_1.ipynb#W6sZmlsZQ%3D%3D?line=15'>16</a>\u001b[0m \u001b[39m# Pathway simulation\u001b[39;00m\n\u001b[1;32m     <a href='vscode-notebook-cell:/home/michael/Current_GitHub/samuel_2_production/1_full_production_1.ipynb#W6sZmlsZQ%3D%3D?line=16'>17</a>\u001b[0m pathway \u001b[39m=\u001b[39m Pathway(\n\u001b[1;32m     <a href='vscode-notebook-cell:/home/michael/Current_GitHub/samuel_2_production/1_full_production_1.ipynb#W6sZmlsZQ%3D%3D?line=17'>18</a>\u001b[0m     data_processor\u001b[39m.\u001b[39mpathway_simulation_parameters,\n\u001b[0;32m---> <a href='vscode-notebook-cell:/home/michael/Current_GitHub/samuel_2_production/1_full_production_1.ipynb#W6sZmlsZQ%3D%3D?line=18'>19</a>\u001b[0m     thrombolysis_choice_model\u001b[39m.\u001b[39;49mbenchmark_thrombolysis,\n\u001b[1;32m     <a href='vscode-notebook-cell:/home/michael/Current_GitHub/samuel_2_production/1_full_production_1.ipynb#W6sZmlsZQ%3D%3D?line=19'>20</a>\u001b[0m     trials\u001b[39m=\u001b[39m\u001b[39m100\u001b[39m)\n",
      "\u001b[0;31mAttributeError\u001b[0m: 'ThrombolysisChoiceModel' object has no attribute 'benchmark_thrombolysis'"
     ]
    }
   ],
   "source": [
    "run_model = True\n",
    "\n",
    "if run_model:\n",
    "    # Descriptive statistics\n",
    "    ds = DescriptiveStatistics()\n",
    "    #ds.run()\n",
    "    \n",
    "    # Thrombolysis decision model\n",
    "    thrombolysis_choice_model = ThrombolysisChoiceModel()\n",
    "    #thrombolysis_choice_model.run()\n",
    "\n",
    "    # Outcome model\n",
    "    outcome_model = OutcomeModel()\n",
    "    #outcome_model.run()\n",
    "\n",
    "    # Pathway simulation\n",
    "    #\n",
    "    # pathway = Pathway(\n",
    "    #    data_processor.pathway_simulation_parameters,\n",
    "    #    thrombolysis_choice_model.benchmark_thrombolysis,\n",
    "    #    trials=100)\n",
    "    #pathway.run()"
   ]
  },
  {
   "cell_type": "markdown",
   "metadata": {},
   "source": [
    "## Reporting"
   ]
  },
  {
   "cell_type": "code",
   "execution_count": null,
   "metadata": {},
   "outputs": [],
   "source": [
    "report = GlobalReport()\n",
    "report.create_report()"
   ]
  },
  {
   "cell_type": "markdown",
   "metadata": {},
   "source": [
    "## To Do\n",
    "\n",
    "* Restrict stroke units to minimum admissions and thrombolysis use (can currently crash with restricted data years)"
   ]
  }
 ],
 "metadata": {
  "kernelspec": {
   "display_name": "sam10",
   "language": "python",
   "name": "python3"
  },
  "language_info": {
   "codemirror_mode": {
    "name": "ipython",
    "version": 3
   },
   "file_extension": ".py",
   "mimetype": "text/x-python",
   "name": "python",
   "nbconvert_exporter": "python",
   "pygments_lexer": "ipython3",
   "version": "3.10.13"
  }
 },
 "nbformat": 4,
 "nbformat_minor": 2
}
