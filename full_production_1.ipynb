{
 "cells": [
  {
   "cell_type": "markdown",
   "metadata": {},
   "source": [
    "# SAMueL-2 full production analysis"
   ]
  },
  {
   "cell_type": "markdown",
   "metadata": {},
   "source": [
    "## Import packages"
   ]
  },
  {
   "cell_type": "code",
   "execution_count": 1,
   "metadata": {},
   "outputs": [],
   "source": [
    "from utils.data_load import DataLoad\n",
    "from utils.thrombolysis_choice_model import ThrombolysisChoiceModel"
   ]
  },
  {
   "cell_type": "markdown",
   "metadata": {},
   "source": [
    "## Load data for models\n",
    "\n",
    "See 'data' folder for processing of raw data."
   ]
  },
  {
   "cell_type": "code",
   "execution_count": 2,
   "metadata": {},
   "outputs": [],
   "source": [
    "data_loader = DataLoad()"
   ]
  },
  {
   "cell_type": "code",
   "execution_count": 3,
   "metadata": {},
   "outputs": [
    {
     "data": {
      "text/plain": [
       "['id',\n",
       " 'stroke_team',\n",
       " 'age',\n",
       " 'male',\n",
       " 'infarction',\n",
       " 'onset_to_arrival_time',\n",
       " 'onset_known',\n",
       " 'precise_onset_known',\n",
       " 'onset_during_sleep',\n",
       " 'arrive_by_ambulance',\n",
       " 'call_to_ambulance_arrival_time',\n",
       " 'ambulance_on_scene_time',\n",
       " 'ambulance_travel_to_hospital_time',\n",
       " 'ambulance_wait_time_at_hospital',\n",
       " 'month',\n",
       " 'year',\n",
       " 'weekday',\n",
       " 'arrival_time_3_hour_period',\n",
       " 'arrival_to_scan_time',\n",
       " 'thrombolysis',\n",
       " 'scan_to_thrombolysis_time',\n",
       " 'thrombectomy',\n",
       " 'arrival_to_thrombectomy_time',\n",
       " 'congestive_heart_failure',\n",
       " 'hypertension',\n",
       " 'atrial_fibrillation',\n",
       " 'diabetes',\n",
       " 'prior_stroke_tia',\n",
       " 'afib_antiplatelet',\n",
       " 'afib_anticoagulant',\n",
       " 'afib_vit_k_anticoagulant',\n",
       " 'afib_doac_anticoagulant',\n",
       " 'afib_heparin_anticoagulant',\n",
       " 'new_afib_diagnosis',\n",
       " 'prior_disability',\n",
       " 'stroke_severity',\n",
       " 'nihss_complete',\n",
       " 'nihss_arrival_loc',\n",
       " 'nihss_arrival_loc_questions',\n",
       " 'nihss_arrival_loc_commands',\n",
       " 'nihss_arrival_best_gaze',\n",
       " 'nihss_arrival_visual',\n",
       " 'nihss_arrival_facial_palsy',\n",
       " 'nihss_arrival_motor_arm_left',\n",
       " 'nihss_arrival_motor_arm_right',\n",
       " 'nihss_arrival_motor_leg_left',\n",
       " 'nihss_arrival_motor_leg_right',\n",
       " 'nihss_arrival_limb_ataxia',\n",
       " 'nihss_arrival_sensory',\n",
       " 'nihss_arrival_best_language',\n",
       " 'nihss_arrival_dysarthria',\n",
       " 'nihss_arrival_extinction_inattention',\n",
       " 'discharge_destination',\n",
       " 'death',\n",
       " 'discharge_disability',\n",
       " 'disability_6_month',\n",
       " 'thrombolysis_no_not_available',\n",
       " 'thrombolysis_no_out_of_hours',\n",
       " 'thrombolysis_no_scan_not_quick_enough',\n",
       " 'thrombolysis_no_no_reason',\n",
       " 'thrombolysis_no_but_haemorrhagic',\n",
       " 'thrombolysis_no_but_time_window',\n",
       " 'thrombolysis_no_but_comorbidity',\n",
       " 'thrombolysis_no_but_medication',\n",
       " 'thrombolysis_no_but_refusal',\n",
       " 'thrombolysis_no_but_age',\n",
       " 'thrombolysis_no_but_improving',\n",
       " 'thrombolysis_no_but_too_mild_severe',\n",
       " 'thrombolysis_no_but_time_unknown_wake_up',\n",
       " 'thrombolysis_no_but_other_medical']"
      ]
     },
     "execution_count": 3,
     "metadata": {},
     "output_type": "execute_result"
    }
   ],
   "source": [
    "list(data_loader.full_data)"
   ]
  },
  {
   "cell_type": "markdown",
   "metadata": {},
   "source": [
    "## Thrombolysis decision model"
   ]
  },
  {
   "cell_type": "code",
   "execution_count": 6,
   "metadata": {},
   "outputs": [],
   "source": [
    "thrombolysis_choice_model = ThrombolysisChoiceModel(data_loader)"
   ]
  },
  {
   "cell_type": "code",
   "execution_count": null,
   "metadata": {},
   "outputs": [],
   "source": []
  }
 ],
 "metadata": {
  "kernelspec": {
   "display_name": "sam10",
   "language": "python",
   "name": "python3"
  },
  "language_info": {
   "codemirror_mode": {
    "name": "ipython",
    "version": 3
   },
   "file_extension": ".py",
   "mimetype": "text/x-python",
   "name": "python",
   "nbconvert_exporter": "python",
   "pygments_lexer": "ipython3",
   "version": "3.10.13"
  }
 },
 "nbformat": 4,
 "nbformat_minor": 2
}
