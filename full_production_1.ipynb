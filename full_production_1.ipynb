{
 "cells": [
  {
   "cell_type": "markdown",
   "metadata": {},
   "source": [
    "# SAMueL-2 full production analysis"
   ]
  },
  {
   "cell_type": "markdown",
   "metadata": {},
   "source": [
    "## Import packages"
   ]
  },
  {
   "cell_type": "code",
   "execution_count": 1,
   "metadata": {},
   "outputs": [],
   "source": [
    "import warnings\n",
    "warnings.filterwarnings(\"ignore\")\n",
    "\n",
    "from utils.data_process import DataProcess\n",
    "from utils.thrombolysis_choice_model import ThrombolysisChoiceModel"
   ]
  },
  {
   "cell_type": "markdown",
   "metadata": {},
   "source": [
    "## Create data for models\n",
    "\n",
    "See 'data' folder for processing of raw data."
   ]
  },
  {
   "cell_type": "code",
   "execution_count": 2,
   "metadata": {},
   "outputs": [
    {
     "name": "stdout",
     "output_type": "stream",
     "text": [
      "All rows: 358993, ML rows:122942, Fraction: 0.34\n"
     ]
    }
   ],
   "source": [
    "process_new_data = False\n",
    "\n",
    "if process_new_data:\n",
    "    data_processor = DataProcess()\n",
    "    data_processor.create_ml_data()"
   ]
  },
  {
   "cell_type": "markdown",
   "metadata": {},
   "source": [
    "## Thrombolysis decision model"
   ]
  },
  {
   "cell_type": "code",
   "execution_count": 3,
   "metadata": {},
   "outputs": [
    {
     "name": "stdout",
     "output_type": "stream",
     "text": [
      "Accuracy: 0.850\n",
      "Balanced accuracy: 0.819\n",
      "ROC AUC: 0.916\n",
      "Actual thrombolysis: 0.295\n",
      "Predicted thrombolysis: 0.294\n"
     ]
    }
   ],
   "source": [
    "thrombolysis_choice_model = ThrombolysisChoiceModel()\n",
    "thrombolysis_choice_model.train_model()"
   ]
  },
  {
   "cell_type": "code",
   "execution_count": null,
   "metadata": {},
   "outputs": [],
   "source": []
  }
 ],
 "metadata": {
  "kernelspec": {
   "display_name": "sam10",
   "language": "python",
   "name": "python3"
  },
  "language_info": {
   "codemirror_mode": {
    "name": "ipython",
    "version": 3
   },
   "file_extension": ".py",
   "mimetype": "text/x-python",
   "name": "python",
   "nbconvert_exporter": "python",
   "pygments_lexer": "ipython3",
   "version": "3.10.13"
  }
 },
 "nbformat": 4,
 "nbformat_minor": 2
}
