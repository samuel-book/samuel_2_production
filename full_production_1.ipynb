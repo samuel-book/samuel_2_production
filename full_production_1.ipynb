{
 "cells": [
  {
   "cell_type": "markdown",
   "metadata": {},
   "source": [
    "# SAMueL-2 full production analysis"
   ]
  },
  {
   "cell_type": "markdown",
   "metadata": {},
   "source": [
    "## Import packages"
   ]
  },
  {
   "cell_type": "code",
   "execution_count": 1,
   "metadata": {
    "ExecuteTime": {
     "end_time": "2023-11-16T08:30:18.207267061Z",
     "start_time": "2023-11-16T08:30:17.374067623Z"
    }
   },
   "outputs": [],
   "source": [
    "import warnings\n",
    "warnings.filterwarnings(\"ignore\")\n",
    "\n",
    "import pandas as pd\n",
    "from utils.data_process import DataProcess\n",
    "from utils.thrombolysis_choice_model import ThrombolysisChoiceModel"
   ]
  },
  {
   "cell_type": "markdown",
   "metadata": {},
   "source": [
    "## Create data for models\n",
    "\n",
    "See 'data' folder for processing of raw data."
   ]
  },
  {
   "cell_type": "code",
   "execution_count": 2,
   "metadata": {
    "ExecuteTime": {
     "end_time": "2023-11-16T08:30:18.211293443Z",
     "start_time": "2023-11-16T08:30:18.209031340Z"
    }
   },
   "outputs": [],
   "source": [
    "process_new_data = False\n",
    "\n",
    "if process_new_data:\n",
    "    data_processor = DataProcess()\n",
    "    data_processor.create_ml_data()"
   ]
  },
  {
   "cell_type": "markdown",
   "metadata": {},
   "source": [
    "## Thrombolysis decision model"
   ]
  },
  {
   "cell_type": "code",
   "execution_count": 3,
   "metadata": {
    "ExecuteTime": {
     "end_time": "2023-11-16T08:30:25.106081178Z",
     "start_time": "2023-11-16T08:30:18.212848911Z"
    }
   },
   "outputs": [
    {
     "name": "stdout",
     "output_type": "stream",
     "text": [
      "Accuracy: 0.849\n",
      "Balanced accuracy: 0.817\n",
      "ROC AUC: 0.918\n",
      "Actual thrombolysis: 0.299\n",
      "Predicted thrombolysis: 0.294\n"
     ]
    }
   ],
   "source": [
    "thrombolysis_choice_model = ThrombolysisChoiceModel()\n",
    "thrombolysis_choice_model.train_model()"
   ]
  },
  {
   "cell_type": "code",
   "execution_count": 4,
   "metadata": {
    "ExecuteTime": {
     "end_time": "2023-11-16T08:30:28.192577621Z",
     "start_time": "2023-11-16T08:30:25.106355568Z"
    }
   },
   "outputs": [
    {
     "data": {
      "text/plain": "           base  onset_to_arrival_time  onset_during_sleep  \\\n0     -1.142976              -0.041745            0.017813   \n1     -1.142976              -0.984682            0.064104   \n2     -1.142976               0.082913            0.028496   \n3     -1.142976               0.193802            0.053574   \n4     -1.142976               0.310971            0.047494   \n...         ...                    ...                 ...   \n30731 -1.142976              -0.043281            0.034386   \n30732 -1.142976              -0.112558            0.043968   \n30733 -1.142976              -0.991381            0.050184   \n30734 -1.142976              -0.008563            0.049252   \n30735 -1.142976               0.502278            0.056446   \n\n       arrival_to_scan_time  infarction  stroke_severity  precise_onset_known  \\\n0                  0.688309    0.328110         0.417917             0.328126   \n1                  0.006987    0.300739        -0.114649            -0.775348   \n2                  0.115419   -9.933782         0.363700             0.678959   \n3                  0.357863    0.501767         1.065641             0.923157   \n4                  0.812413    0.477497         0.620454             0.457197   \n...                     ...         ...              ...                  ...   \n30731              0.405996   -9.504423         0.393150             0.202674   \n30732             -1.560986   -7.606064         0.135234             0.265927   \n30733              0.784658    0.387032         0.333280            -0.815839   \n30734              0.419326    0.447226        -0.108088             0.329124   \n30735             -0.827738    0.191235        -2.349385            -0.623249   \n\n       prior_disability  afib_anticoagulant       age  hospital      total  \\\n0             -0.077484           -2.627136  0.050718  0.496660  -0.418712   \n1              0.349760            0.180397  0.064144  0.152138  -0.756410   \n2              0.231389            0.131029  0.060719  0.620360  -7.620799   \n3              0.357796            0.262421  0.100983  0.844952   4.661957   \n4              0.087434            0.245920 -0.402418  0.144749   2.801710   \n...                 ...                 ...       ...       ...        ...   \n30731          0.199019            0.117163 -0.264753 -0.240259  -8.700328   \n30732         -0.703559            0.087344 -0.505702 -0.087831 -10.044228   \n30733         -0.167270            0.231279  0.197095 -1.013448  -1.004409   \n30734          0.426312            0.223189  0.032651 -0.329485   1.480946   \n30735          0.267401            0.132224  0.153361 -0.209183  -2.706610   \n\n       probability  \n0         0.396825  \n1         0.319426  \n2         0.000490  \n3         0.990640  \n4         0.942768  \n...            ...  \n30731     0.000167  \n30732     0.000043  \n30733     0.268075  \n30734     0.814715  \n30735     0.062584  \n\n[30736 rows x 13 columns]",
      "text/html": "<div>\n<style scoped>\n    .dataframe tbody tr th:only-of-type {\n        vertical-align: middle;\n    }\n\n    .dataframe tbody tr th {\n        vertical-align: top;\n    }\n\n    .dataframe thead th {\n        text-align: right;\n    }\n</style>\n<table border=\"1\" class=\"dataframe\">\n  <thead>\n    <tr style=\"text-align: right;\">\n      <th></th>\n      <th>base</th>\n      <th>onset_to_arrival_time</th>\n      <th>onset_during_sleep</th>\n      <th>arrival_to_scan_time</th>\n      <th>infarction</th>\n      <th>stroke_severity</th>\n      <th>precise_onset_known</th>\n      <th>prior_disability</th>\n      <th>afib_anticoagulant</th>\n      <th>age</th>\n      <th>hospital</th>\n      <th>total</th>\n      <th>probability</th>\n    </tr>\n  </thead>\n  <tbody>\n    <tr>\n      <th>0</th>\n      <td>-1.142976</td>\n      <td>-0.041745</td>\n      <td>0.017813</td>\n      <td>0.688309</td>\n      <td>0.328110</td>\n      <td>0.417917</td>\n      <td>0.328126</td>\n      <td>-0.077484</td>\n      <td>-2.627136</td>\n      <td>0.050718</td>\n      <td>0.496660</td>\n      <td>-0.418712</td>\n      <td>0.396825</td>\n    </tr>\n    <tr>\n      <th>1</th>\n      <td>-1.142976</td>\n      <td>-0.984682</td>\n      <td>0.064104</td>\n      <td>0.006987</td>\n      <td>0.300739</td>\n      <td>-0.114649</td>\n      <td>-0.775348</td>\n      <td>0.349760</td>\n      <td>0.180397</td>\n      <td>0.064144</td>\n      <td>0.152138</td>\n      <td>-0.756410</td>\n      <td>0.319426</td>\n    </tr>\n    <tr>\n      <th>2</th>\n      <td>-1.142976</td>\n      <td>0.082913</td>\n      <td>0.028496</td>\n      <td>0.115419</td>\n      <td>-9.933782</td>\n      <td>0.363700</td>\n      <td>0.678959</td>\n      <td>0.231389</td>\n      <td>0.131029</td>\n      <td>0.060719</td>\n      <td>0.620360</td>\n      <td>-7.620799</td>\n      <td>0.000490</td>\n    </tr>\n    <tr>\n      <th>3</th>\n      <td>-1.142976</td>\n      <td>0.193802</td>\n      <td>0.053574</td>\n      <td>0.357863</td>\n      <td>0.501767</td>\n      <td>1.065641</td>\n      <td>0.923157</td>\n      <td>0.357796</td>\n      <td>0.262421</td>\n      <td>0.100983</td>\n      <td>0.844952</td>\n      <td>4.661957</td>\n      <td>0.990640</td>\n    </tr>\n    <tr>\n      <th>4</th>\n      <td>-1.142976</td>\n      <td>0.310971</td>\n      <td>0.047494</td>\n      <td>0.812413</td>\n      <td>0.477497</td>\n      <td>0.620454</td>\n      <td>0.457197</td>\n      <td>0.087434</td>\n      <td>0.245920</td>\n      <td>-0.402418</td>\n      <td>0.144749</td>\n      <td>2.801710</td>\n      <td>0.942768</td>\n    </tr>\n    <tr>\n      <th>...</th>\n      <td>...</td>\n      <td>...</td>\n      <td>...</td>\n      <td>...</td>\n      <td>...</td>\n      <td>...</td>\n      <td>...</td>\n      <td>...</td>\n      <td>...</td>\n      <td>...</td>\n      <td>...</td>\n      <td>...</td>\n      <td>...</td>\n    </tr>\n    <tr>\n      <th>30731</th>\n      <td>-1.142976</td>\n      <td>-0.043281</td>\n      <td>0.034386</td>\n      <td>0.405996</td>\n      <td>-9.504423</td>\n      <td>0.393150</td>\n      <td>0.202674</td>\n      <td>0.199019</td>\n      <td>0.117163</td>\n      <td>-0.264753</td>\n      <td>-0.240259</td>\n      <td>-8.700328</td>\n      <td>0.000167</td>\n    </tr>\n    <tr>\n      <th>30732</th>\n      <td>-1.142976</td>\n      <td>-0.112558</td>\n      <td>0.043968</td>\n      <td>-1.560986</td>\n      <td>-7.606064</td>\n      <td>0.135234</td>\n      <td>0.265927</td>\n      <td>-0.703559</td>\n      <td>0.087344</td>\n      <td>-0.505702</td>\n      <td>-0.087831</td>\n      <td>-10.044228</td>\n      <td>0.000043</td>\n    </tr>\n    <tr>\n      <th>30733</th>\n      <td>-1.142976</td>\n      <td>-0.991381</td>\n      <td>0.050184</td>\n      <td>0.784658</td>\n      <td>0.387032</td>\n      <td>0.333280</td>\n      <td>-0.815839</td>\n      <td>-0.167270</td>\n      <td>0.231279</td>\n      <td>0.197095</td>\n      <td>-1.013448</td>\n      <td>-1.004409</td>\n      <td>0.268075</td>\n    </tr>\n    <tr>\n      <th>30734</th>\n      <td>-1.142976</td>\n      <td>-0.008563</td>\n      <td>0.049252</td>\n      <td>0.419326</td>\n      <td>0.447226</td>\n      <td>-0.108088</td>\n      <td>0.329124</td>\n      <td>0.426312</td>\n      <td>0.223189</td>\n      <td>0.032651</td>\n      <td>-0.329485</td>\n      <td>1.480946</td>\n      <td>0.814715</td>\n    </tr>\n    <tr>\n      <th>30735</th>\n      <td>-1.142976</td>\n      <td>0.502278</td>\n      <td>0.056446</td>\n      <td>-0.827738</td>\n      <td>0.191235</td>\n      <td>-2.349385</td>\n      <td>-0.623249</td>\n      <td>0.267401</td>\n      <td>0.132224</td>\n      <td>0.153361</td>\n      <td>-0.209183</td>\n      <td>-2.706610</td>\n      <td>0.062584</td>\n    </tr>\n  </tbody>\n</table>\n<p>30736 rows × 13 columns</p>\n</div>"
     },
     "execution_count": 4,
     "metadata": {},
     "output_type": "execute_result"
    }
   ],
   "source": [
    "thrombolysis_choice_model.get_shap()\n",
    "thrombolysis_choice_model.shap_values_df"
   ]
  },
  {
   "cell_type": "code",
   "execution_count": 4,
   "outputs": [],
   "source": [],
   "metadata": {
    "collapsed": false,
    "ExecuteTime": {
     "end_time": "2023-11-16T08:30:28.196966835Z",
     "start_time": "2023-11-16T08:30:28.194011071Z"
    }
   }
  }
 ],
 "metadata": {
  "kernelspec": {
   "display_name": "sam10",
   "language": "python",
   "name": "python3"
  },
  "language_info": {
   "codemirror_mode": {
    "name": "ipython",
    "version": 3
   },
   "file_extension": ".py",
   "mimetype": "text/x-python",
   "name": "python",
   "nbconvert_exporter": "python",
   "pygments_lexer": "ipython3",
   "version": "3.10.13"
  }
 },
 "nbformat": 4,
 "nbformat_minor": 2
}
