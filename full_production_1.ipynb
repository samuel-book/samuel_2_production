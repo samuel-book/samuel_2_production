{
 "cells": [
  {
   "cell_type": "markdown",
   "metadata": {},
   "source": [
    "# SAMueL-2 full production analysis"
   ]
  },
  {
   "cell_type": "markdown",
   "metadata": {},
   "source": [
    "## Import packages"
   ]
  },
  {
   "cell_type": "code",
   "execution_count": 1,
   "metadata": {
    "is_executing": true
   },
   "outputs": [],
   "source": [
    "import warnings\n",
    "warnings.filterwarnings(\"ignore\")\n",
    "\n",
    "import pandas as pd\n",
    "from utils.data_process import DataProcess\n",
    "from utils.thrombolysis_choice_model import ThrombolysisChoiceModel"
   ]
  },
  {
   "cell_type": "markdown",
   "metadata": {},
   "source": [
    "## Create data for models\n",
    "\n",
    "See 'data' folder for processing of raw data."
   ]
  },
  {
   "cell_type": "code",
   "execution_count": 2,
   "metadata": {
    "ExecuteTime": {
     "end_time": "2023-11-16T08:30:18.211293443Z",
     "start_time": "2023-11-16T08:30:18.209031340Z"
    }
   },
   "outputs": [],
   "source": [
    "process_new_data = False\n",
    "\n",
    "if process_new_data:\n",
    "    data_processor = DataProcess()\n",
    "    data_processor.create_ml_data()"
   ]
  },
  {
   "cell_type": "markdown",
   "metadata": {},
   "source": [
    "## Thrombolysis decision model"
   ]
  },
  {
   "cell_type": "code",
   "execution_count": 3,
   "metadata": {
    "ExecuteTime": {
     "end_time": "2023-11-16T08:30:25.106081178Z",
     "start_time": "2023-11-16T08:30:18.212848911Z"
    }
   },
   "outputs": [
    {
     "name": "stdout",
     "output_type": "stream",
     "text": [
      "Accuracy: 0.849\n",
      "Balanced accuracy: 0.817\n",
      "ROC AUC: 0.918\n",
      "Actual thrombolysis: 0.299\n",
      "Predicted thrombolysis: 0.294\n"
     ]
    }
   ],
   "source": [
    "thrombolysis_choice_model = ThrombolysisChoiceModel()\n",
    "thrombolysis_choice_model.train_model()\n",
    "thrombolysis_choice_model.get_shap()\n",
    "thrombolysis_choice_model.estimate_benchmark_rates()"
   ]
  },
  {
   "cell_type": "code",
   "execution_count": 4,
   "metadata": {},
   "outputs": [],
   "source": [
    "s = thrombolysis_choice_model"
   ]
  },
  {
   "cell_type": "code",
   "execution_count": 5,
   "metadata": {},
   "outputs": [
    {
     "data": {
      "text/plain": [
       "stroke_team\n",
       "Addenbrooke's Hospital          0.361111\n",
       "Basildon University Hospital    0.350052\n",
       "Blackpool Victoria Hospital     0.268930\n",
       "Bradford and Airedale SU        0.267373\n",
       "Bronglais Hospital              0.527273\n",
       "                                  ...   \n",
       "Worthing Hospital               0.311013\n",
       "Wycombe General Hospital        0.323934\n",
       "Yeovil District Hospital        0.373444\n",
       "York Hospital                   0.307799\n",
       "Ysbyty Gwynedd                  0.256494\n",
       "Name: thrombolysis, Length: 121, dtype: float64"
      ]
     },
     "execution_count": 5,
     "metadata": {},
     "output_type": "execute_result"
    }
   ],
   "source": [
    "s.thrombolysis_rates"
   ]
  },
  {
   "cell_type": "code",
   "execution_count": 6,
   "metadata": {},
   "outputs": [
    {
     "data": {
      "text/html": [
       "<div>\n",
       "<style scoped>\n",
       "    .dataframe tbody tr th:only-of-type {\n",
       "        vertical-align: middle;\n",
       "    }\n",
       "\n",
       "    .dataframe tbody tr th {\n",
       "        vertical-align: top;\n",
       "    }\n",
       "\n",
       "    .dataframe thead th {\n",
       "        text-align: right;\n",
       "    }\n",
       "</style>\n",
       "<table border=\"1\" class=\"dataframe\">\n",
       "  <thead>\n",
       "    <tr style=\"text-align: right;\">\n",
       "      <th></th>\n",
       "      <th>benchmark</th>\n",
       "      <th>observed</th>\n",
       "    </tr>\n",
       "  </thead>\n",
       "  <tbody>\n",
       "    <tr>\n",
       "      <th>Addenbrooke's Hospital</th>\n",
       "      <td>0.363363</td>\n",
       "      <td>0.361111</td>\n",
       "    </tr>\n",
       "    <tr>\n",
       "      <th>Basildon University Hospital</th>\n",
       "      <td>0.394984</td>\n",
       "      <td>0.350052</td>\n",
       "    </tr>\n",
       "    <tr>\n",
       "      <th>Blackpool Victoria Hospital</th>\n",
       "      <td>0.381201</td>\n",
       "      <td>0.268930</td>\n",
       "    </tr>\n",
       "    <tr>\n",
       "      <th>Bradford and Airedale SU</th>\n",
       "      <td>0.367491</td>\n",
       "      <td>0.267373</td>\n",
       "    </tr>\n",
       "    <tr>\n",
       "      <th>Bronglais Hospital</th>\n",
       "      <td>0.422727</td>\n",
       "      <td>0.527273</td>\n",
       "    </tr>\n",
       "    <tr>\n",
       "      <th>...</th>\n",
       "      <td>...</td>\n",
       "      <td>...</td>\n",
       "    </tr>\n",
       "    <tr>\n",
       "      <th>Worthing Hospital</th>\n",
       "      <td>0.280176</td>\n",
       "      <td>0.311013</td>\n",
       "    </tr>\n",
       "    <tr>\n",
       "      <th>Wycombe General Hospital</th>\n",
       "      <td>0.378955</td>\n",
       "      <td>0.323934</td>\n",
       "    </tr>\n",
       "    <tr>\n",
       "      <th>Yeovil District Hospital</th>\n",
       "      <td>0.438451</td>\n",
       "      <td>0.373444</td>\n",
       "    </tr>\n",
       "    <tr>\n",
       "      <th>York Hospital</th>\n",
       "      <td>0.387187</td>\n",
       "      <td>0.307799</td>\n",
       "    </tr>\n",
       "    <tr>\n",
       "      <th>Ysbyty Gwynedd</th>\n",
       "      <td>0.387987</td>\n",
       "      <td>0.256494</td>\n",
       "    </tr>\n",
       "  </tbody>\n",
       "</table>\n",
       "<p>121 rows × 2 columns</p>\n",
       "</div>"
      ],
      "text/plain": [
       "                              benchmark  observed\n",
       "Addenbrooke's Hospital         0.363363  0.361111\n",
       "Basildon University Hospital   0.394984  0.350052\n",
       "Blackpool Victoria Hospital    0.381201  0.268930\n",
       "Bradford and Airedale SU       0.367491  0.267373\n",
       "Bronglais Hospital             0.422727  0.527273\n",
       "...                                 ...       ...\n",
       "Worthing Hospital              0.280176  0.311013\n",
       "Wycombe General Hospital       0.378955  0.323934\n",
       "Yeovil District Hospital       0.438451  0.373444\n",
       "York Hospital                  0.387187  0.307799\n",
       "Ysbyty Gwynedd                 0.387987  0.256494\n",
       "\n",
       "[121 rows x 2 columns]"
      ]
     },
     "execution_count": 6,
     "metadata": {},
     "output_type": "execute_result"
    }
   ],
   "source": [
    "s.benchmark_thrombolysis"
   ]
  },
  {
   "cell_type": "code",
   "execution_count": null,
   "metadata": {},
   "outputs": [],
   "source": []
  }
 ],
 "metadata": {
  "kernelspec": {
   "display_name": "sam10",
   "language": "python",
   "name": "python3"
  },
  "language_info": {
   "codemirror_mode": {
    "name": "ipython",
    "version": 3
   },
   "file_extension": ".py",
   "mimetype": "text/x-python",
   "name": "python",
   "nbconvert_exporter": "python",
   "pygments_lexer": "ipython3",
   "version": "3.10.13"
  }
 },
 "nbformat": 4,
 "nbformat_minor": 2
}
