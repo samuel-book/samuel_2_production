{
 "cells": [
  {
   "cell_type": "markdown",
   "metadata": {},
   "source": [
    "# Does ambulance travel time to hospital affect survival of haemorrhagic stroke patients? Replicating RACECAT.\n",
    "\n",
    "Could increased time to arrival at first hospital affect survival rates for haemorrhagic stroke patients?\n",
    "\n",
    "RACECAT trial suggested a possible effect. See:\n",
    "\n",
    "Ramos-Pachón, Anna, David Rodríguez-Luna, Joan Martí-Fàbregas, Mònica Millán, Alejandro Bustamante, Marina Martínez-Sánchez, Joaquín Serena, et al. ‘Effect of Bypassing the Closest Stroke Center in Patients with Intracerebral Hemorrhage: A Secondary Analysis of the RACECAT Randomized Clinical Trial’. JAMA Neurology 80, no. 10 (1 October 2023): 1028–36. https://doi.org/10.1001/jamaneurol.2023.2754.\n",
    "\n",
    "The inclusion criteria for RACECAT were:\n",
    "\n",
    "* No significant prior-stroke disability (mRS 0-2)\n",
    "* Suspected LVO (RACE 5+; equivalent to NIHSS 11+)\n",
    "* Expected arrival at treatment centre of within 7 hours of stroke onset"
   ]
  },
  {
   "cell_type": "code",
   "execution_count": 8,
   "metadata": {},
   "outputs": [],
   "source": [
    "import matplotlib.pyplot as plt\n",
    "import pandas as pd\n",
    "import statsmodels.api as sm\n",
    "import seaborn as sns\n",
    "import numpy as np\n",
    "\n",
    "# Set maximum number of rows and columns to display\n",
    "pd.set_option('display.max_rows', 500)\n",
    "pd.set_option('display.max_columns', 500)"
   ]
  },
  {
   "cell_type": "code",
   "execution_count": 5,
   "metadata": {},
   "outputs": [],
   "source": [
    "data = pd.read_csv('./../data/data_for_models.csv', low_memory=False)\n",
    "# Delete columns that are not needed\n",
    "cols = [\n",
    "    'id',\n",
    "    'month',\n",
    "    'year',\n",
    "    'weekday']\n",
    "\n",
    "#data = data.drop(cols, axis=1)\n"
   ]
  },
  {
   "cell_type": "code",
   "execution_count": 7,
   "metadata": {},
   "outputs": [
    {
     "ename": "SyntaxError",
     "evalue": "'(' was never closed (1695908979.py, line 5)",
     "output_type": "error",
     "traceback": [
      "\u001b[0;36m  Cell \u001b[0;32mIn[7], line 5\u001b[0;36m\u001b[0m\n\u001b[0;31m    selected_data = pd.DataFrame(data[[col, 'death']]\u001b[0m\n\u001b[0m                                ^\u001b[0m\n\u001b[0;31mSyntaxError\u001b[0m\u001b[0;31m:\u001b[0m '(' was never closed\n"
     ]
    }
   ],
   "source": [
    "# Loop through columns and check correlation with death (report if P<0.05)\n",
    "for col in data.columns:\n",
    "    X = data[col]\n",
    "    y = data['death']\n",
    "    selected_data = pd.DataFrame(data[[col, 'death']])\n",
    "    \n",
    "\n",
    "    X = sm.add_constant(X)\n",
    "    model = sm.OLS(y, X).fit()\n",
    "    p = model.pvalues[1]\n",
    "    if p < 0.05:\n",
    "        print(f'{col}: {p}')\n",
    "        print(model.summary())\n"
   ]
  },
  {
   "cell_type": "code",
   "execution_count": 9,
   "metadata": {},
   "outputs": [],
   "source": [
    "# Get haemorrhagic stroke data\n",
    "data = data[data['infarction'] == 0]\n",
    "\n",
    "# Limit to prior_disability 0-2\n",
    "data = data[data['prior_disability'] < 3]\n",
    "\n",
    "# Only use onset to admission of > 0 mins (avoid in-hospital stroke)\n",
    "data = data[data['onset_to_arrival_time'] > 0]\n",
    "\n",
    "# Limit to 7 hour arrivals (as RACECAT inclusion criteria)\n",
    "data = data[data['onset_to_arrival_time'] < 420]\n",
    "\n",
    "# Use only data where ambulance_travel_to_hospital_time is known (>0)\n",
    "data = data[data['ambulance_travel_to_hospital_time'] > 0]\n",
    "\n",
    "# Limit to NIHSS 11+ (equivalent to RACE 5+)\n",
    "data = data[data['stroke_severity'] > 10]"
   ]
  },
  {
   "cell_type": "code",
   "execution_count": null,
   "metadata": {},
   "outputs": [],
   "source": [
    "# Check signficane of correlation of all features with death\n",
    "# Get correlation matrix\n",
    "correlation_matrix = data.corr()\n",
    "correlation_matrix = correlation_matrix['death']\n",
    "correlation_matrix = correlation_matrix.sort_values(ascending=False)\n",
    "print(correlation_matrix)\n"
   ]
  },
  {
   "cell_type": "markdown",
   "metadata": {},
   "source": [
    "## Ambulance to hospital travel time"
   ]
  },
  {
   "cell_type": "code",
   "execution_count": 10,
   "metadata": {},
   "outputs": [
    {
     "data": {
      "text/html": [
       "<div>\n",
       "<style scoped>\n",
       "    .dataframe tbody tr th:only-of-type {\n",
       "        vertical-align: middle;\n",
       "    }\n",
       "\n",
       "    .dataframe tbody tr th {\n",
       "        vertical-align: top;\n",
       "    }\n",
       "\n",
       "    .dataframe thead th {\n",
       "        text-align: right;\n",
       "    }\n",
       "</style>\n",
       "<table border=\"1\" class=\"dataframe\">\n",
       "  <thead>\n",
       "    <tr style=\"text-align: right;\">\n",
       "      <th></th>\n",
       "      <th>count</th>\n",
       "      <th>mean</th>\n",
       "      <th>std</th>\n",
       "      <th>min</th>\n",
       "      <th>25%</th>\n",
       "      <th>50%</th>\n",
       "      <th>75%</th>\n",
       "      <th>max</th>\n",
       "    </tr>\n",
       "  </thead>\n",
       "  <tbody>\n",
       "    <tr>\n",
       "      <th>age</th>\n",
       "      <td>2509.0</td>\n",
       "      <td>75.451375</td>\n",
       "      <td>12.378920</td>\n",
       "      <td>37.5</td>\n",
       "      <td>67.5</td>\n",
       "      <td>77.5</td>\n",
       "      <td>82.5</td>\n",
       "      <td>92.5</td>\n",
       "    </tr>\n",
       "    <tr>\n",
       "      <th>male</th>\n",
       "      <td>2509.0</td>\n",
       "      <td>0.504982</td>\n",
       "      <td>0.500075</td>\n",
       "      <td>0.0</td>\n",
       "      <td>0.0</td>\n",
       "      <td>1.0</td>\n",
       "      <td>1.0</td>\n",
       "      <td>1.0</td>\n",
       "    </tr>\n",
       "    <tr>\n",
       "      <th>stroke_severity</th>\n",
       "      <td>2509.0</td>\n",
       "      <td>20.905939</td>\n",
       "      <td>7.455765</td>\n",
       "      <td>11.0</td>\n",
       "      <td>15.0</td>\n",
       "      <td>19.0</td>\n",
       "      <td>25.0</td>\n",
       "      <td>42.0</td>\n",
       "    </tr>\n",
       "    <tr>\n",
       "      <th>ambulance_travel_to_hospital_time</th>\n",
       "      <td>2509.0</td>\n",
       "      <td>16.581905</td>\n",
       "      <td>9.696355</td>\n",
       "      <td>1.0</td>\n",
       "      <td>9.0</td>\n",
       "      <td>14.0</td>\n",
       "      <td>22.0</td>\n",
       "      <td>73.0</td>\n",
       "    </tr>\n",
       "    <tr>\n",
       "      <th>prior_disability</th>\n",
       "      <td>2509.0</td>\n",
       "      <td>0.545237</td>\n",
       "      <td>0.764054</td>\n",
       "      <td>0.0</td>\n",
       "      <td>0.0</td>\n",
       "      <td>0.0</td>\n",
       "      <td>1.0</td>\n",
       "      <td>2.0</td>\n",
       "    </tr>\n",
       "    <tr>\n",
       "      <th>death</th>\n",
       "      <td>2509.0</td>\n",
       "      <td>0.615783</td>\n",
       "      <td>0.486507</td>\n",
       "      <td>0.0</td>\n",
       "      <td>0.0</td>\n",
       "      <td>1.0</td>\n",
       "      <td>1.0</td>\n",
       "      <td>1.0</td>\n",
       "    </tr>\n",
       "  </tbody>\n",
       "</table>\n",
       "</div>"
      ],
      "text/plain": [
       "                                    count       mean        std   min   25%  \\\n",
       "age                                2509.0  75.451375  12.378920  37.5  67.5   \n",
       "male                               2509.0   0.504982   0.500075   0.0   0.0   \n",
       "stroke_severity                    2509.0  20.905939   7.455765  11.0  15.0   \n",
       "ambulance_travel_to_hospital_time  2509.0  16.581905   9.696355   1.0   9.0   \n",
       "prior_disability                   2509.0   0.545237   0.764054   0.0   0.0   \n",
       "death                              2509.0   0.615783   0.486507   0.0   0.0   \n",
       "\n",
       "                                    50%   75%   max  \n",
       "age                                77.5  82.5  92.5  \n",
       "male                                1.0   1.0   1.0  \n",
       "stroke_severity                    19.0  25.0  42.0  \n",
       "ambulance_travel_to_hospital_time  14.0  22.0  73.0  \n",
       "prior_disability                    0.0   1.0   2.0  \n",
       "death                               1.0   1.0   1.0  "
      ]
     },
     "execution_count": 10,
     "metadata": {},
     "output_type": "execute_result"
    }
   ],
   "source": [
    "# Get selected data\n",
    "fields = ['age',\n",
    "          'male',\n",
    "          'stroke_severity',\n",
    "          'ambulance_travel_to_hospital_time',\n",
    "          'prior_disability',\n",
    "          'death']\n",
    "\n",
    "# Get data\n",
    "selected_data = data[fields]\n",
    "selected_data = selected_data.dropna()\n",
    "\n",
    "# Show data\n",
    "selected_data.describe().T\n"
   ]
  },
  {
   "cell_type": "code",
   "execution_count": 12,
   "metadata": {},
   "outputs": [
    {
     "name": "stdout",
     "output_type": "stream",
     "text": [
      "Optimization terminated successfully.\n",
      "         Current function value: 0.512714\n",
      "         Iterations 6\n",
      "                           Logit Regression Results                           \n",
      "==============================================================================\n",
      "Dep. Variable:                  death   No. Observations:                 2509\n",
      "Model:                          Logit   Df Residuals:                     2503\n",
      "Method:                           MLE   Df Model:                            5\n",
      "Date:                Fri, 07 Jun 2024   Pseudo R-squ.:                  0.2303\n",
      "Time:                        10:46:18   Log-Likelihood:                -1286.4\n",
      "converged:                       True   LL-Null:                       -1671.2\n",
      "Covariance Type:            nonrobust   LLR p-value:                4.261e-164\n",
      "=====================================================================================================\n",
      "                                        coef    std err          z      P>|z|      [0.025      0.975]\n",
      "-----------------------------------------------------------------------------------------------------\n",
      "const                                -7.6189      0.409    -18.621      0.000      -8.421      -6.817\n",
      "age                                   0.0642      0.004     14.464      0.000       0.056       0.073\n",
      "male                                  0.2234      0.098      2.270      0.023       0.030       0.416\n",
      "stroke_severity                       0.1467      0.008     17.603      0.000       0.130       0.163\n",
      "ambulance_travel_to_hospital_time     0.0071      0.005      1.398      0.162      -0.003       0.017\n",
      "prior_disability                      0.2594      0.067      3.846      0.000       0.127       0.392\n",
      "=====================================================================================================\n"
     ]
    }
   ],
   "source": [
    "# Split into X and Y\n",
    "X = selected_data.drop('death', axis=1)\n",
    "y = selected_data['death']\n",
    "\n",
    "# Fit a statsmodels logistic regression to death\n",
    "X = sm.add_constant(X)\n",
    "logit_model = sm.Logit(y, X)\n",
    "result = logit_model.fit()\n",
    "print(result.summary())"
   ]
  },
  {
   "cell_type": "markdown",
   "metadata": {},
   "source": [
    "## Refit to model just on ambulance travel to hospital time\n",
    "\n",
    "Do not adjust for other factors"
   ]
  },
  {
   "cell_type": "code",
   "execution_count": 13,
   "metadata": {},
   "outputs": [
    {
     "name": "stdout",
     "output_type": "stream",
     "text": [
      "Optimization terminated successfully.\n",
      "         Current function value: 0.664713\n",
      "         Iterations 4\n",
      "                           Logit Regression Results                           \n",
      "==============================================================================\n",
      "Dep. Variable:                  death   No. Observations:                 2509\n",
      "Model:                          Logit   Df Residuals:                     2507\n",
      "Method:                           MLE   Df Model:                            1\n",
      "Date:                Fri, 07 Jun 2024   Pseudo R-squ.:                0.002069\n",
      "Time:                        10:51:13   Log-Likelihood:                -1667.8\n",
      "converged:                       True   LL-Null:                       -1671.2\n",
      "Covariance Type:            nonrobust   LLR p-value:                  0.008547\n",
      "=====================================================================================================\n",
      "                                        coef    std err          z      P>|z|      [0.025      0.975]\n",
      "-----------------------------------------------------------------------------------------------------\n",
      "const                                 0.2858      0.082      3.495      0.000       0.126       0.446\n",
      "ambulance_travel_to_hospital_time     0.0113      0.004      2.606      0.009       0.003       0.020\n",
      "=====================================================================================================\n"
     ]
    }
   ],
   "source": [
    "# Get selected data\n",
    "fields = ['ambulance_travel_to_hospital_time', 'death']\n",
    "\n",
    "# Get data\n",
    "selected_data = data[fields]\n",
    "selected_data = selected_data.dropna()\n",
    "\n",
    "# Split into X and Y\n",
    "X = selected_data.drop('death', axis=1)\n",
    "y = selected_data['death'].astype(int)\n",
    "\n",
    "# Fit a statsmodels logistic regression to death\n",
    "X = sm.add_constant(X)\n",
    "logit_model = sm.Logit(y, X)\n",
    "result = logit_model.fit()\n",
    "print(result.summary())"
   ]
  },
  {
   "cell_type": "code",
   "execution_count": 14,
   "metadata": {},
   "outputs": [
    {
     "data": {
      "image/png": "[encoded data removed]",
      "text/plain": [
       "<Figure size 500x500 with 1 Axes>"
      ]
     },
     "metadata": {},
     "output_type": "display_data"
    }
   ],
   "source": [
    "fig = sns.lmplot(x=\"ambulance_travel_to_hospital_time\", y=\"death\", data=data, markers='', logistic=True);\n",
    "fig.set_xlabels('Ambulance travel to hospital time (minutes)')\n",
    "fig.set_ylabels('Proportion of ischaemic patients expected to die')\n",
    "plt.grid()\n",
    "plt.ylim(0, 1)\n",
    "plt.show();\n"
   ]
  },
  {
   "cell_type": "markdown",
   "metadata": {},
   "source": [
    "With points:\n",
    "\n",
    "(For linear regression use regplot: https://seaborn.pydata.org/generated/seaborn.regplot.html)"
   ]
  },
  {
   "cell_type": "code",
   "execution_count": 15,
   "metadata": {},
   "outputs": [
    {
     "data": {
      "image/png": "[encoded data removed]",
      "text/plain": [
       "<Figure size 500x500 with 1 Axes>"
      ]
     },
     "metadata": {},
     "output_type": "display_data"
    }
   ],
   "source": [
    "fig = sns.lmplot(x=\"ambulance_travel_to_hospital_time\", y=\"death\", \n",
    "                 data=data, markers='o', logistic=True, x_jitter=0, y_jitter=0.03);\n",
    "fig.set_xlabels('Ambulance travel to hospital time (minutes)')\n",
    "fig.set_ylabels('Proportion of ischaemic patients expected to die')\n",
    "plt.grid()\n",
    "plt.ylim(0, 1)\n",
    "plt.show();"
   ]
  },
  {
   "cell_type": "code",
   "execution_count": null,
   "metadata": {},
   "outputs": [],
   "source": []
  }
 ],
 "metadata": {
  "kernelspec": {
   "display_name": "samprod",
   "language": "python",
   "name": "python3"
  },
  "language_info": {
   "codemirror_mode": {
    "name": "ipython",
    "version": 3
   },
   "file_extension": ".py",
   "mimetype": "text/x-python",
   "name": "python",
   "nbconvert_exporter": "python",
   "pygments_lexer": "ipython3",
   "version": "3.1.undefined"
  }
 },
 "nbformat": 4,
 "nbformat_minor": 2
}
