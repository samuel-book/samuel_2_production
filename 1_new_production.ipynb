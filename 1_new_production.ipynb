{
 "cells": [
  {
   "cell_type": "markdown",
   "metadata": {},
   "source": [
    "# SAMueL-2 full production analysis"
   ]
  },
  {
   "cell_type": "markdown",
   "metadata": {},
   "source": [
    "## Import packages"
   ]
  },
  {
   "cell_type": "code",
   "execution_count": 1,
   "metadata": {
    "is_executing": true
   },
   "outputs": [],
   "source": [
    "import warnings\n",
    "warnings.filterwarnings(\"ignore\")\n",
    "\n",
    "import matplotlib.pyplot as plt\n",
    "import numpy as np\n",
    "import pandas as pd\n",
    "from utils.data_process import DataProcess\n",
    "from utils.descriptive_stats import DescriptiveStatistics\n",
    "from utils.pathway import Pathway\n",
    "from utils.reporting import GlobalReport\n",
    "from utils.thrombolysis_choice_outcome import ThrombolysisChoiceOutcome\n"
   ]
  },
  {
   "cell_type": "markdown",
   "metadata": {},
   "source": [
    "## Create data for models\n",
    "\n",
    "See 'data' folder for processing of raw data."
   ]
  },
  {
   "cell_type": "code",
   "execution_count": 2,
   "metadata": {
    "ExecuteTime": {
     "end_time": "2023-11-16T08:30:18.211293443Z",
     "start_time": "2023-11-16T08:30:18.209031340Z"
    }
   },
   "outputs": [
    {
     "name": "stdout",
     "output_type": "stream",
     "text": [
      "All rows: 358925, ML rows:132426, Fraction: 0.37\n"
     ]
    }
   ],
   "source": [
    "data_processor = DataProcess(\n",
    "    year_min=2016,\n",
    "    year_max=2021,\n",
    "    limit_to_ambo=False,\n",
    ")\n",
    "\n",
    "data_processor.run()"
   ]
  },
  {
   "cell_type": "markdown",
   "metadata": {},
   "source": [
    "## Model Run"
   ]
  },
  {
   "cell_type": "code",
   "execution_count": 3,
   "metadata": {},
   "outputs": [],
   "source": [
    "# Descriptive statistics\n",
    "ds = DescriptiveStatistics()\n",
    "ds.run()"
   ]
  },
  {
   "cell_type": "code",
   "execution_count": 4,
   "metadata": {},
   "outputs": [
    {
     "name": "stdout",
     "output_type": "stream",
     "text": [
      "ROC AUC: 0.938\n",
      "Actual thrombolysis: 0.300\n",
      "Predicted thrombolysis: 0.299\n",
      "Outcome multiclass ROC AUC 0.852\n"
     ]
    }
   ],
   "source": [
    "# ML Models\n",
    "choice_outcome_model = ThrombolysisChoiceOutcome()\n",
    "choice_outcome_model.run()"
   ]
  },
  {
   "cell_type": "code",
   "execution_count": 5,
   "metadata": {},
   "outputs": [],
   "source": [
    "pathway = Pathway(\n",
    "    data_processor.pathway_simulation_parameters, trials=10)\n",
    "pathway.run()"
   ]
  }
 ],
 "metadata": {
  "kernelspec": {
   "display_name": "sam10",
   "language": "python",
   "name": "python3"
  },
  "language_info": {
   "codemirror_mode": {
    "name": "ipython",
    "version": 3
   },
   "file_extension": ".py",
   "mimetype": "text/x-python",
   "name": "python",
   "nbconvert_exporter": "python",
   "pygments_lexer": "ipython3",
   "version": "3.10.13"
  }
 },
 "nbformat": 4,
 "nbformat_minor": 2
}
