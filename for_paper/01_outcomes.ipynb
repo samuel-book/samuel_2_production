{
 "cells": [
  {
   "cell_type": "markdown",
   "metadata": {},
   "source": [
    "# SAMueL Outcomes"
   ]
  },
  {
   "cell_type": "code",
   "execution_count": 1,
   "metadata": {},
   "outputs": [],
   "source": [
    "import numpy as np\n",
    "import pandas as pd\n",
    "import matplotlib.pyplot as plt"
   ]
  },
  {
   "cell_type": "code",
   "execution_count": 2,
   "metadata": {},
   "outputs": [],
   "source": [
    "data = pd.read_csv('../output/thrombolysis_choice_results.csv')\n",
    "data = data.drop(columns=['Unnamed: 0'])"
   ]
  },
  {
   "cell_type": "code",
   "execution_count": 3,
   "metadata": {},
   "outputs": [],
   "source": [
    "# Add columns\n",
    "data['untreated_mrs_0-1'] = data['untreated_mrs_0'] + data['untreated_mrs_1']\n",
    "data['untreated_mrs_0-2'] = data['untreated_mrs_0'] + data['untreated_mrs_1'] + data['untreated_mrs_2']\n",
    "data['treated_mrs_0-1'] = data['treated_mrs_0'] + data['treated_mrs_1']\n",
    "data['treated_mrs_0-2'] = data['treated_mrs_0'] + data['treated_mrs_1'] + data['treated_mrs_2']\n"
   ]
  },
  {
   "cell_type": "markdown",
   "metadata": {},
   "source": [
    "## Run analysis of outcomes on ischaemic stroke"
   ]
  },
  {
   "cell_type": "code",
   "execution_count": 4,
   "metadata": {},
   "outputs": [
    {
     "name": "stdout",
     "output_type": "stream",
     "text": [
      "Proportion of patients with infarction: 0.8540\n"
     ]
    }
   ],
   "source": [
    "analyse_infarction_only = False\n",
    "\n",
    "mask = (data['infarction'] == 1)\n",
    "if analyse_infarction_only:\n",
    "    data = data[mask]\n",
    "iscahaemic = mask.mean()\n",
    "print(f'Proportion of patients with infarction: {iscahaemic:0.4f}')\n"
   ]
  },
  {
   "cell_type": "code",
   "execution_count": 5,
   "metadata": {},
   "outputs": [],
   "source": [
    "patient_groups = dict()"
   ]
  },
  {
   "cell_type": "code",
   "execution_count": 6,
   "metadata": {},
   "outputs": [
    {
     "name": "stdout",
     "output_type": "stream",
     "text": [
      "Proportion of ischaemic patients treated: 0.3002\n",
      "Proportion of ischaemic patients with improved outcome (including use of anticoagulants): 0.5847\n",
      "Proportion of ischaemic patients with improved outcome (excluding use of anticoagulants): 0.5132\n",
      "Proportion of ischaemic patients with benchmark outcome: 0.3690\n"
     ]
    }
   ],
   "source": [
    "proportion_treated = []\n",
    "\n",
    "# Get actually treated population\n",
    "mask = data['thrombolysis'] == 1\n",
    "patient_groups['actually treated'] = data[mask]\n",
    "treated = mask.mean()\n",
    "proportion_treated.append(treated)\n",
    "print(f'Proportion of ischaemic patients treated: {treated:0.4f}')\n",
    "\n",
    "# Get improved outcomes (including anticoagulant)\n",
    "mask = data['improved_outcome'] == 1\n",
    "patient_groups['improved_outcome including anticoagulant'] = data[mask]\n",
    "improved_outcome = mask.mean()\n",
    "proportion_treated.append(improved_outcome)\n",
    "print(f'Proportion of ischaemic patients with improved outcome (including use of anticoagulants): {improved_outcome:0.4f}')\n",
    "\n",
    "# Get improved outcomes (excluding anticoagulant)\n",
    "mask = (data['improved_outcome'] == 1) & (data['afib_anticoagulant'] == 0)\n",
    "patient_groups['improved_outcome_no_anticoagulant'] = data[mask]\n",
    "improved_outcome_no_anticoagulant = mask.mean()\n",
    "proportion_treated.append(improved_outcome_no_anticoagulant)\n",
    "print(f'Proportion of ischaemic patients with improved outcome (excluding use of anticoagulants): {improved_outcome_no_anticoagulant:0.4f}')\n",
    "\n",
    "# Get benchmark outcomes\n",
    "mask = data['benchmark_decision'] == 1\n",
    "patient_groups['benchmark'] = data[mask]\n",
    "benchmark = mask.mean()\n",
    "proportion_treated.append(benchmark)\n",
    "print(f'Proportion of ischaemic patients with benchmark outcome: {benchmark:0.4f}')"
   ]
  },
  {
   "cell_type": "code",
   "execution_count": 7,
   "metadata": {},
   "outputs": [],
   "source": [
    "# Results dataframe\n",
    "results = pd.DataFrame(index=patient_groups.keys())\n",
    "results['proportion_ischaemic_treated'] = proportion_treated\n",
    "\n",
    "# Put summary results in lists\n",
    "untreated_mrs_0_1 = []\n",
    "treated_mrs_0_1 = []\n",
    "change_in_mrs_0_1 = []\n",
    "untreated_mrs_0_2 = []\n",
    "treated_mrs_0_2 = []\n",
    "change_in_mrs_0_2 = []\n",
    "untreated_mrs6 = []\n",
    "treated_mrs6 = []\n",
    "change_in_mrs6 = []\n",
    "untreated_weighted_mrs = []\n",
    "treated_weighted_mrs = []\n",
    "change_in_weighted_mrs = []\n",
    "untreated_utility = []\n",
    "treated_utility = []\n",
    "change_in_utility = []\n",
    "\n",
    "\n",
    "for key, group in patient_groups.items():\n",
    "    # Patients in MRS 0-1\n",
    "    untreated = np.mean(group['untreated_mrs_0'] + group['untreated_mrs_1'])\n",
    "    treated = np.mean(group['treated_mrs_0'] + group['treated_mrs_1'])\n",
    "    improved = treated - untreated\n",
    "    untreated_mrs_0_1.append(untreated)\n",
    "    treated_mrs_0_1.append(treated)\n",
    "    change_in_mrs_0_1.append(improved)\n",
    "    # Patients in MRS 0-2\n",
    "    untreated = np.mean(group['untreated_mrs_0'] + group['untreated_mrs_1'] + group['untreated_mrs_2'])\n",
    "    treated = np.mean(group['treated_mrs_0'] + group['treated_mrs_1'] + group['treated_mrs_2'])\n",
    "    improved = treated - untreated\n",
    "    untreated_mrs_0_2.append(untreated)\n",
    "    treated_mrs_0_2.append(treated)\n",
    "    change_in_mrs_0_2.append(improved)\n",
    "    # Patients in MRS 6 (dead)\n",
    "    untreated = np.mean(group['untreated_mrs_6'])\n",
    "    treated = np.mean(group['treated_mrs_6'])\n",
    "    improved = treated - untreated\n",
    "    untreated_mrs6.append(untreated)\n",
    "    treated_mrs6.append(treated)\n",
    "    change_in_mrs6.append(improved)\n",
    "    # Weighted MRS\n",
    "    untreated = np.mean(group['untreated_weighted_mrs'])\n",
    "    treated = np.mean(group['treated_weighted_mrs'])\n",
    "    improved = treated - untreated\n",
    "    untreated_weighted_mrs.append(untreated)\n",
    "    treated_weighted_mrs.append(treated)\n",
    "    change_in_weighted_mrs.append(improved)\n",
    "    # Utility\n",
    "    untreated = np.mean(group['untreated_utility'])\n",
    "    treated = np.mean(group['treated_utility'])\n",
    "    improved = treated - untreated\n",
    "    untreated_utility.append(untreated)\n",
    "    treated_utility.append(treated)\n",
    "    change_in_utility.append(improved)\n",
    "\n",
    "results['untreated_mrs_0_1'] = untreated_mrs_0_1\n",
    "results['treated_mrs_0_1'] = treated_mrs_0_1\n",
    "results['change_in_mrs_0_1'] = change_in_mrs_0_1\n",
    "results['untreated_mrs_0_2'] = untreated_mrs_0_2\n",
    "results['treated_mrs_0_2'] = treated_mrs_0_2\n",
    "results['change_in_mrs_0_2'] = change_in_mrs_0_2\n",
    "results['untreated_mrs6'] = untreated_mrs6\n",
    "results['treated_mrs6'] = treated_mrs6\n",
    "results['change_in_mrs6'] = change_in_mrs6\n",
    "results['untreated_weighted_mrs'] = untreated_weighted_mrs\n",
    "results['treated_weighted_mrs'] = treated_weighted_mrs\n",
    "results['change_in_weighted_mrs'] = change_in_weighted_mrs\n",
    "results['untreated_utility'] = untreated_utility\n",
    "results['treated_utility'] = treated_utility\n",
    "results['change_in_utility'] = change_in_utility\n",
    "\n",
    "results.to_csv('./output/thrombolysis_benefit_summary.csv')\n"
   ]
  },
  {
   "cell_type": "code",
   "execution_count": 8,
   "metadata": {},
   "outputs": [
    {
     "data": {
      "text/html": [
       "<div>\n",
       "<style scoped>\n",
       "    .dataframe tbody tr th:only-of-type {\n",
       "        vertical-align: middle;\n",
       "    }\n",
       "\n",
       "    .dataframe tbody tr th {\n",
       "        vertical-align: top;\n",
       "    }\n",
       "\n",
       "    .dataframe thead th {\n",
       "        text-align: right;\n",
       "    }\n",
       "</style>\n",
       "<table border=\"1\" class=\"dataframe\">\n",
       "  <thead>\n",
       "    <tr style=\"text-align: right;\">\n",
       "      <th></th>\n",
       "      <th>actually treated</th>\n",
       "      <th>improved_outcome including anticoagulant</th>\n",
       "      <th>improved_outcome_no_anticoagulant</th>\n",
       "      <th>benchmark</th>\n",
       "    </tr>\n",
       "  </thead>\n",
       "  <tbody>\n",
       "    <tr>\n",
       "      <th>proportion_ischaemic_treated</th>\n",
       "      <td>0.300</td>\n",
       "      <td>0.585</td>\n",
       "      <td>0.513</td>\n",
       "      <td>0.369</td>\n",
       "    </tr>\n",
       "    <tr>\n",
       "      <th>untreated_mrs_0_1</th>\n",
       "      <td>0.259</td>\n",
       "      <td>0.241</td>\n",
       "      <td>0.250</td>\n",
       "      <td>0.252</td>\n",
       "    </tr>\n",
       "    <tr>\n",
       "      <th>treated_mrs_0_1</th>\n",
       "      <td>0.356</td>\n",
       "      <td>0.322</td>\n",
       "      <td>0.335</td>\n",
       "      <td>0.352</td>\n",
       "    </tr>\n",
       "    <tr>\n",
       "      <th>change_in_mrs_0_1</th>\n",
       "      <td>0.097</td>\n",
       "      <td>0.082</td>\n",
       "      <td>0.085</td>\n",
       "      <td>0.099</td>\n",
       "    </tr>\n",
       "    <tr>\n",
       "      <th>untreated_mrs_0_2</th>\n",
       "      <td>0.417</td>\n",
       "      <td>0.394</td>\n",
       "      <td>0.406</td>\n",
       "      <td>0.411</td>\n",
       "    </tr>\n",
       "    <tr>\n",
       "      <th>treated_mrs_0_2</th>\n",
       "      <td>0.538</td>\n",
       "      <td>0.499</td>\n",
       "      <td>0.514</td>\n",
       "      <td>0.534</td>\n",
       "    </tr>\n",
       "    <tr>\n",
       "      <th>change_in_mrs_0_2</th>\n",
       "      <td>0.121</td>\n",
       "      <td>0.106</td>\n",
       "      <td>0.108</td>\n",
       "      <td>0.123</td>\n",
       "    </tr>\n",
       "    <tr>\n",
       "      <th>untreated_mrs6</th>\n",
       "      <td>0.222</td>\n",
       "      <td>0.229</td>\n",
       "      <td>0.220</td>\n",
       "      <td>0.225</td>\n",
       "    </tr>\n",
       "    <tr>\n",
       "      <th>treated_mrs6</th>\n",
       "      <td>0.143</td>\n",
       "      <td>0.155</td>\n",
       "      <td>0.146</td>\n",
       "      <td>0.144</td>\n",
       "    </tr>\n",
       "    <tr>\n",
       "      <th>change_in_mrs6</th>\n",
       "      <td>-0.080</td>\n",
       "      <td>-0.074</td>\n",
       "      <td>-0.073</td>\n",
       "      <td>-0.081</td>\n",
       "    </tr>\n",
       "    <tr>\n",
       "      <th>untreated_weighted_mrs</th>\n",
       "      <td>3.174</td>\n",
       "      <td>3.264</td>\n",
       "      <td>3.205</td>\n",
       "      <td>3.197</td>\n",
       "    </tr>\n",
       "    <tr>\n",
       "      <th>treated_weighted_mrs</th>\n",
       "      <td>2.603</td>\n",
       "      <td>2.753</td>\n",
       "      <td>2.686</td>\n",
       "      <td>2.617</td>\n",
       "    </tr>\n",
       "    <tr>\n",
       "      <th>change_in_weighted_mrs</th>\n",
       "      <td>-0.571</td>\n",
       "      <td>-0.512</td>\n",
       "      <td>-0.519</td>\n",
       "      <td>-0.580</td>\n",
       "    </tr>\n",
       "    <tr>\n",
       "      <th>untreated_utility</th>\n",
       "      <td>0.452</td>\n",
       "      <td>0.432</td>\n",
       "      <td>0.443</td>\n",
       "      <td>0.448</td>\n",
       "    </tr>\n",
       "    <tr>\n",
       "      <th>treated_utility</th>\n",
       "      <td>0.559</td>\n",
       "      <td>0.529</td>\n",
       "      <td>0.541</td>\n",
       "      <td>0.557</td>\n",
       "    </tr>\n",
       "    <tr>\n",
       "      <th>change_in_utility</th>\n",
       "      <td>0.107</td>\n",
       "      <td>0.097</td>\n",
       "      <td>0.098</td>\n",
       "      <td>0.109</td>\n",
       "    </tr>\n",
       "  </tbody>\n",
       "</table>\n",
       "</div>"
      ],
      "text/plain": [
       "                              actually treated  \\\n",
       "proportion_ischaemic_treated             0.300   \n",
       "untreated_mrs_0_1                        0.259   \n",
       "treated_mrs_0_1                          0.356   \n",
       "change_in_mrs_0_1                        0.097   \n",
       "untreated_mrs_0_2                        0.417   \n",
       "treated_mrs_0_2                          0.538   \n",
       "change_in_mrs_0_2                        0.121   \n",
       "untreated_mrs6                           0.222   \n",
       "treated_mrs6                             0.143   \n",
       "change_in_mrs6                          -0.080   \n",
       "untreated_weighted_mrs                   3.174   \n",
       "treated_weighted_mrs                     2.603   \n",
       "change_in_weighted_mrs                  -0.571   \n",
       "untreated_utility                        0.452   \n",
       "treated_utility                          0.559   \n",
       "change_in_utility                        0.107   \n",
       "\n",
       "                              improved_outcome including anticoagulant  \\\n",
       "proportion_ischaemic_treated                                     0.585   \n",
       "untreated_mrs_0_1                                                0.241   \n",
       "treated_mrs_0_1                                                  0.322   \n",
       "change_in_mrs_0_1                                                0.082   \n",
       "untreated_mrs_0_2                                                0.394   \n",
       "treated_mrs_0_2                                                  0.499   \n",
       "change_in_mrs_0_2                                                0.106   \n",
       "untreated_mrs6                                                   0.229   \n",
       "treated_mrs6                                                     0.155   \n",
       "change_in_mrs6                                                  -0.074   \n",
       "untreated_weighted_mrs                                           3.264   \n",
       "treated_weighted_mrs                                             2.753   \n",
       "change_in_weighted_mrs                                          -0.512   \n",
       "untreated_utility                                                0.432   \n",
       "treated_utility                                                  0.529   \n",
       "change_in_utility                                                0.097   \n",
       "\n",
       "                              improved_outcome_no_anticoagulant  benchmark  \n",
       "proportion_ischaemic_treated                              0.513      0.369  \n",
       "untreated_mrs_0_1                                         0.250      0.252  \n",
       "treated_mrs_0_1                                           0.335      0.352  \n",
       "change_in_mrs_0_1                                         0.085      0.099  \n",
       "untreated_mrs_0_2                                         0.406      0.411  \n",
       "treated_mrs_0_2                                           0.514      0.534  \n",
       "change_in_mrs_0_2                                         0.108      0.123  \n",
       "untreated_mrs6                                            0.220      0.225  \n",
       "treated_mrs6                                              0.146      0.144  \n",
       "change_in_mrs6                                           -0.073     -0.081  \n",
       "untreated_weighted_mrs                                    3.205      3.197  \n",
       "treated_weighted_mrs                                      2.686      2.617  \n",
       "change_in_weighted_mrs                                   -0.519     -0.580  \n",
       "untreated_utility                                         0.443      0.448  \n",
       "treated_utility                                           0.541      0.557  \n",
       "change_in_utility                                         0.098      0.109  "
      ]
     },
     "execution_count": 8,
     "metadata": {},
     "output_type": "execute_result"
    }
   ],
   "source": [
    "results.round(3).T"
   ]
  },
  {
   "cell_type": "code",
   "execution_count": 9,
   "metadata": {},
   "outputs": [],
   "source": [
    "# Additional good outcomes per 1000 arrivals (4 hours)\n",
    "\n",
    "summary = pd.DataFrame()\n",
    "\n",
    "summary['additional mrs 0-1 per 1000 arrivals'] = (\n",
    "    results['proportion_ischaemic_treated'] * results['change_in_mrs_0_1'] * 1000)\n",
    "\n",
    "summary['additional mrs 0-2 per 1000 arrivals'] = (\n",
    "    results['proportion_ischaemic_treated'] * results['change_in_mrs_0_2'] * 1000)\n",
    "\n",
    "summary['mean change in weighted mRS'] = (\n",
    "    results['proportion_ischaemic_treated'] * results['change_in_weighted_mrs'])\n",
    "\n",
    "summary['mean change in utility'] = (\n",
    "    results['proportion_ischaemic_treated'] * results['change_in_utility'])\n",
    "\n",
    "summary['mean change in death'] = (\n",
    "    results['proportion_ischaemic_treated'] * results['change_in_mrs6'])\n",
    "\n",
    "summary = summary.round(3)"
   ]
  },
  {
   "cell_type": "code",
   "execution_count": 10,
   "metadata": {},
   "outputs": [
    {
     "data": {
      "text/html": [
       "<div>\n",
       "<style scoped>\n",
       "    .dataframe tbody tr th:only-of-type {\n",
       "        vertical-align: middle;\n",
       "    }\n",
       "\n",
       "    .dataframe tbody tr th {\n",
       "        vertical-align: top;\n",
       "    }\n",
       "\n",
       "    .dataframe thead th {\n",
       "        text-align: right;\n",
       "    }\n",
       "</style>\n",
       "<table border=\"1\" class=\"dataframe\">\n",
       "  <thead>\n",
       "    <tr style=\"text-align: right;\">\n",
       "      <th></th>\n",
       "      <th>actually treated</th>\n",
       "      <th>improved_outcome including anticoagulant</th>\n",
       "      <th>improved_outcome_no_anticoagulant</th>\n",
       "      <th>benchmark</th>\n",
       "    </tr>\n",
       "  </thead>\n",
       "  <tbody>\n",
       "    <tr>\n",
       "      <th>additional mrs 0-1 per 1000 arrivals</th>\n",
       "      <td>29.121</td>\n",
       "      <td>47.751</td>\n",
       "      <td>43.597</td>\n",
       "      <td>36.540</td>\n",
       "    </tr>\n",
       "    <tr>\n",
       "      <th>additional mrs 0-2 per 1000 arrivals</th>\n",
       "      <td>36.438</td>\n",
       "      <td>61.739</td>\n",
       "      <td>55.265</td>\n",
       "      <td>45.391</td>\n",
       "    </tr>\n",
       "    <tr>\n",
       "      <th>mean change in weighted mRS</th>\n",
       "      <td>-0.171</td>\n",
       "      <td>-0.299</td>\n",
       "      <td>-0.266</td>\n",
       "      <td>-0.214</td>\n",
       "    </tr>\n",
       "    <tr>\n",
       "      <th>mean change in utility</th>\n",
       "      <td>0.032</td>\n",
       "      <td>0.057</td>\n",
       "      <td>0.050</td>\n",
       "      <td>0.040</td>\n",
       "    </tr>\n",
       "    <tr>\n",
       "      <th>mean change in death</th>\n",
       "      <td>-0.024</td>\n",
       "      <td>-0.043</td>\n",
       "      <td>-0.038</td>\n",
       "      <td>-0.030</td>\n",
       "    </tr>\n",
       "  </tbody>\n",
       "</table>\n",
       "</div>"
      ],
      "text/plain": [
       "                                      actually treated  \\\n",
       "additional mrs 0-1 per 1000 arrivals            29.121   \n",
       "additional mrs 0-2 per 1000 arrivals            36.438   \n",
       "mean change in weighted mRS                     -0.171   \n",
       "mean change in utility                           0.032   \n",
       "mean change in death                            -0.024   \n",
       "\n",
       "                                      improved_outcome including anticoagulant  \\\n",
       "additional mrs 0-1 per 1000 arrivals                                    47.751   \n",
       "additional mrs 0-2 per 1000 arrivals                                    61.739   \n",
       "mean change in weighted mRS                                             -0.299   \n",
       "mean change in utility                                                   0.057   \n",
       "mean change in death                                                    -0.043   \n",
       "\n",
       "                                      improved_outcome_no_anticoagulant  \\\n",
       "additional mrs 0-1 per 1000 arrivals                             43.597   \n",
       "additional mrs 0-2 per 1000 arrivals                             55.265   \n",
       "mean change in weighted mRS                                      -0.266   \n",
       "mean change in utility                                            0.050   \n",
       "mean change in death                                             -0.038   \n",
       "\n",
       "                                      benchmark  \n",
       "additional mrs 0-1 per 1000 arrivals     36.540  \n",
       "additional mrs 0-2 per 1000 arrivals     45.391  \n",
       "mean change in weighted mRS              -0.214  \n",
       "mean change in utility                    0.040  \n",
       "mean change in death                     -0.030  "
      ]
     },
     "execution_count": 10,
     "metadata": {},
     "output_type": "execute_result"
    }
   ],
   "source": [
    "summary.T"
   ]
  },
  {
   "cell_type": "code",
   "execution_count": 11,
   "metadata": {},
   "outputs": [
    {
     "name": "stdout",
     "output_type": "stream",
     "text": [
      "Proportion of patients on anticoagulants treated with thrombolysis: 0.0716\n",
      "Proportion of patients on anticoagulants with benchmark decision: 0.0189\n"
     ]
    }
   ],
   "source": [
    "# What proportion of patients on anticoagulants are treated with thrombolysis?\n",
    "\n",
    "mask = (data['afib_anticoagulant'] == 1)\n",
    "selected_data = data[mask]\n",
    "proportion_treated = selected_data['thrombolysis'].mean()\n",
    "print(f'Proportion of patients on anticoagulants treated with thrombolysis: {proportion_treated:0.4f}')\n",
    "proportion_treated = selected_data['benchmark_decision'].mean()\n",
    "print(f'Proportion of patients on anticoagulants with benchmark decision: {proportion_treated:0.4f}')\n"
   ]
  },
  {
   "cell_type": "code",
   "execution_count": 12,
   "metadata": {},
   "outputs": [
    {
     "name": "stdout",
     "output_type": "stream",
     "text": [
      "Proportion of benchmark decisions that are improved outcomes: 0.9177\n"
     ]
    }
   ],
   "source": [
    "# Proportion of benchmark decision that are improved outcomes\n",
    "mask = (data['benchmark_decision'] == 1)\n",
    "selected_data = data[mask]\n",
    "proportion_improved = selected_data['improved_outcome'].mean()\n",
    "print(f'Proportion of benchmark decisions that are improved outcomes: {proportion_improved:0.4f}')\n"
   ]
  },
  {
   "cell_type": "code",
   "execution_count": 13,
   "metadata": {},
   "outputs": [
    {
     "name": "stdout",
     "output_type": "stream",
     "text": [
      "Proportion of actual thrombolysis that are improved outcomes: 0.8913\n"
     ]
    }
   ],
   "source": [
    "# Proportion of actual thrombolysis that are improved outcomes\n",
    "mask = (data['thrombolysis'] == 1)\n",
    "selected_data = data[mask]\n",
    "proportion_improved = selected_data['improved_outcome'].mean()\n",
    "print(f'Proportion of actual thrombolysis that are improved outcomes: {proportion_improved:0.4f}')\n"
   ]
  },
  {
   "cell_type": "code",
   "execution_count": 14,
   "metadata": {},
   "outputs": [
    {
     "name": "stdout",
     "output_type": "stream",
     "text": [
      "Proportion of improved outcomes (no anticoagulation) that are benchmark decisions: 0.6548\n"
     ]
    }
   ],
   "source": [
    "# Proportion of improved outcomes (no anticoagulation) that are benchmark decisions\n",
    "mask = (data['improved_outcome'] == 1) & (data['afib_anticoagulant'] == 0)\n",
    "selected_data = data[mask]\n",
    "proportion_benchmark = selected_data['benchmark_decision'].mean()\n",
    "print(f'Proportion of improved outcomes (no anticoagulation) that are benchmark decisions: {proportion_benchmark:0.4f}')"
   ]
  },
  {
   "cell_type": "code",
   "execution_count": 15,
   "metadata": {},
   "outputs": [
    {
     "name": "stdout",
     "output_type": "stream",
     "text": [
      "Proportion of improved outcomes (no anticoagulation) treated with thrombolysis: 0.5041\n"
     ]
    }
   ],
   "source": [
    "# Proportion of improved outcomes (no anticoagulation) that are treated with thrombolysis\n",
    "mask = (data['improved_outcome'] == 1) & (data['afib_anticoagulant'] == 0)\n",
    "selected_data = data[mask]\n",
    "proportion_treated = selected_data['thrombolysis'].mean()\n",
    "print(f'Proportion of improved outcomes (no anticoagulation) treated with thrombolysis: {proportion_treated:0.4f}')"
   ]
  },
  {
   "cell_type": "code",
   "execution_count": 16,
   "metadata": {},
   "outputs": [
    {
     "name": "stdout",
     "output_type": "stream",
     "text": [
      "No thrombolysis, no improved outcome:  50681\n",
      "No thrombolysis, improved outcome:  41989\n",
      "Thrombolysis, no improved outcome:  4320\n",
      "Thrombolysis, improved outcome:  35436\n"
     ]
    }
   ],
   "source": [
    "data = pd.read_csv('../output/thrombolysis_choice_results.csv')\n",
    "data = data.drop(columns=['Unnamed: 0'])\n",
    "\n",
    "mask = (data['thrombolysis'] == 0) & (data['improved_outcome'] == 0)\n",
    "total = mask.sum()\n",
    "print (\"No thrombolysis, no improved outcome: \", total)\n",
    "mask = (data['thrombolysis'] == 0) & (data['improved_outcome'] == 1)\n",
    "total = mask.sum()\n",
    "print (\"No thrombolysis, improved outcome: \", total)\n",
    "mask = (data['thrombolysis'] == 1) & (data['improved_outcome'] == 0)\n",
    "total = mask.sum()\n",
    "print (\"Thrombolysis, no improved outcome: \", total)\n",
    "mask = (data['thrombolysis'] == 1) & (data['improved_outcome'] == 1)\n",
    "total = mask.sum()\n",
    "print (\"Thrombolysis, improved outcome: \", total)\n"
   ]
  },
  {
   "cell_type": "code",
   "execution_count": 17,
   "metadata": {},
   "outputs": [
    {
     "name": "stdout",
     "output_type": "stream",
     "text": [
      "No thrombolysis, no improved outcome:  50978\n",
      "No thrombolysis, improved outcome:  32585\n",
      "Thrombolysis, no improved outcome:  4023\n",
      "Thrombolysis, improved outcome:  44840\n"
     ]
    }
   ],
   "source": [
    "mask = (data['benchmark_decision'] == 0) & (data['improved_outcome'] == 0)\n",
    "total = mask.sum()\n",
    "print (\"No thrombolysis, no improved outcome: \", total)\n",
    "mask = (data['benchmark_decision'] == 0) & (data['improved_outcome'] == 1)\n",
    "total = mask.sum()\n",
    "print (\"No thrombolysis, improved outcome: \", total)\n",
    "mask = (data['benchmark_decision'] == 1) & (data['improved_outcome'] == 0)\n",
    "total = mask.sum()\n",
    "print (\"Thrombolysis, no improved outcome: \", total)\n",
    "mask = (data['benchmark_decision'] == 1) & (data['improved_outcome'] == 1)\n",
    "total = mask.sum()\n",
    "print (\"Thrombolysis, improved outcome: \", total)"
   ]
  },
  {
   "cell_type": "code",
   "execution_count": 18,
   "metadata": {},
   "outputs": [
    {
     "name": "stdout",
     "output_type": "stream",
     "text": [
      "Sensitivity: 0.4577\n",
      "Specificity: 0.8789\n"
     ]
    }
   ],
   "source": [
    "sensitivity = data['TP'].sum() / (data['TP'].sum() + data['FN'].sum())\n",
    "specificity = data['TN'].sum() / (data['TN'].sum() + data['FP'].sum())\n",
    "\n",
    "print(f'Sensitivity: {sensitivity:0.4f}')\n",
    "print(f'Specificity: {specificity:0.4f}')\n"
   ]
  },
  {
   "cell_type": "code",
   "execution_count": null,
   "metadata": {},
   "outputs": [],
   "source": []
  }
 ],
 "metadata": {
  "kernelspec": {
   "display_name": "samprod",
   "language": "python",
   "name": "python3"
  },
  "language_info": {
   "codemirror_mode": {
    "name": "ipython",
    "version": 3
   },
   "file_extension": ".py",
   "mimetype": "text/x-python",
   "name": "python",
   "nbconvert_exporter": "python",
   "pygments_lexer": "ipython3",
   "version": "3.10.13"
  }
 },
 "nbformat": 4,
 "nbformat_minor": 2
}
