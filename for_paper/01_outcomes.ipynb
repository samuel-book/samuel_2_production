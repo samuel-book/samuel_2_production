{
 "cells": [
  {
   "cell_type": "markdown",
   "metadata": {},
   "source": [
    "# SAMueL Outcomes"
   ]
  },
  {
   "cell_type": "code",
   "execution_count": 1,
   "metadata": {},
   "outputs": [],
   "source": [
    "import numpy as np\n",
    "import pandas as pd\n",
    "import matplotlib.pyplot as plt"
   ]
  },
  {
   "cell_type": "code",
   "execution_count": 2,
   "metadata": {},
   "outputs": [],
   "source": [
    "data = pd.read_csv('../output/thrombolysis_choice_results.csv')\n",
    "data = data.drop(columns=['Unnamed: 0'])"
   ]
  },
  {
   "cell_type": "code",
   "execution_count": 3,
   "metadata": {},
   "outputs": [],
   "source": [
    "# Add columns\n",
    "data['untreated_mrs_0-1'] = data['untreated_mrs_0'] + data['untreated_mrs_1']\n",
    "data['untreated_mrs_0-2'] = data['untreated_mrs_0'] + data['untreated_mrs_1'] + data['untreated_mrs_2']\n",
    "data['treated_mrs_0-1'] = data['treated_mrs_0'] + data['treated_mrs_1']\n",
    "data['treated_mrs_0-2'] = data['treated_mrs_0'] + data['treated_mrs_1'] + data['treated_mrs_2']\n"
   ]
  },
  {
   "cell_type": "code",
   "execution_count": 14,
   "metadata": {},
   "outputs": [
    {
     "data": {
      "text/plain": [
       "['stroke_team',\n",
       " 'year',\n",
       " 'arrive_by_ambulance',\n",
       " 'onset_to_arrival_time',\n",
       " 'onset_during_sleep',\n",
       " 'arrival_to_scan_time',\n",
       " 'onset_to_scan',\n",
       " 'infarction',\n",
       " 'stroke_severity',\n",
       " 'precise_onset_known',\n",
       " 'prior_disability',\n",
       " 'any_afib_diagnosis',\n",
       " 'afib_anticoagulant',\n",
       " 'age',\n",
       " 'onset_to_thrombolysis',\n",
       " 'thrombolysis',\n",
       " 'thrombectomy',\n",
       " 'scan_to_thrombolysis_time',\n",
       " 'discharge_disability',\n",
       " 'simulated_onset_to_thrombolysis',\n",
       " 'thrombolysis_choice_probability',\n",
       " 'thrombolysis_choice',\n",
       " 'hospital_SHAP',\n",
       " 'benchmark_decision',\n",
       " 'untreated_weighted_mrs',\n",
       " 'untreated_0_to_4',\n",
       " 'untreated_mrs_0',\n",
       " 'untreated_mrs_1',\n",
       " 'untreated_mrs_2',\n",
       " 'untreated_mrs_3',\n",
       " 'untreated_mrs_4',\n",
       " 'untreated_mrs_5',\n",
       " 'untreated_mrs_6',\n",
       " 'untreated_utility',\n",
       " 'treated_weighted_mrs',\n",
       " 'treated_0_to_4',\n",
       " 'treated_mrs_0',\n",
       " 'treated_mrs_1',\n",
       " 'treated_mrs_2',\n",
       " 'treated_mrs_3',\n",
       " 'treated_mrs_4',\n",
       " 'treated_mrs_5',\n",
       " 'treated_mrs_6',\n",
       " 'treated_utility',\n",
       " 'change_in_weighted_mrs',\n",
       " 'change_in_mrs_0_to_4',\n",
       " 'improved_outcome',\n",
       " 'change_in_utility',\n",
       " 'untreated_mrs_0-1',\n",
       " 'untreated_mrs_0-2',\n",
       " 'treated_mrs_0-1',\n",
       " 'treated_mrs_0-2']"
      ]
     },
     "execution_count": 14,
     "metadata": {},
     "output_type": "execute_result"
    }
   ],
   "source": [
    "list(data)"
   ]
  },
  {
   "cell_type": "markdown",
   "metadata": {},
   "source": [
    "## Run analysis of outcomes on ischaemic stroke"
   ]
  },
  {
   "cell_type": "code",
   "execution_count": 4,
   "metadata": {},
   "outputs": [
    {
     "name": "stdout",
     "output_type": "stream",
     "text": [
      "Proportion of patients with infarction: 0.8540\n"
     ]
    }
   ],
   "source": [
    "mask = (data['infarction'] == 1)\n",
    "data = data[mask]\n",
    "iscahaemic = mask.mean()\n",
    "print(f'Proportion of patients with infarction: {iscahaemic:0.4f}')\n"
   ]
  },
  {
   "cell_type": "code",
   "execution_count": 5,
   "metadata": {},
   "outputs": [],
   "source": [
    "patient_groups = dict()"
   ]
  },
  {
   "cell_type": "code",
   "execution_count": 6,
   "metadata": {},
   "outputs": [
    {
     "name": "stdout",
     "output_type": "stream",
     "text": [
      "Proportion of ischaemic patients treated: 0.3515\n",
      "Proportion of ischaemic patients with improved outcome (including use of anticoagulants): 0.7123\n",
      "Proportion of ischaemic patients with improved outcome (excluding use of anticoagulants): 0.6236\n",
      "Proportion of ischaemic patients with benchmark outcome: 0.4742\n"
     ]
    }
   ],
   "source": [
    "proportion_treated = []\n",
    "\n",
    "# Get actually treated population\n",
    "mask = data['thrombolysis'] == 1\n",
    "patient_groups['actually treated'] = data[mask]\n",
    "treated = mask.mean()\n",
    "proportion_treated.append(treated)\n",
    "print(f'Proportion of ischaemic patients treated: {treated:0.4f}')\n",
    "\n",
    "# Get improved outcomes (including anticoagulant)\n",
    "mask = data['improved_outcome'] == 1\n",
    "patient_groups['improved_outcome including anticoagulant'] = data[mask]\n",
    "improved_outcome = mask.mean()\n",
    "proportion_treated.append(improved_outcome)\n",
    "print(f'Proportion of ischaemic patients with improved outcome (including use of anticoagulants): {improved_outcome:0.4f}')\n",
    "\n",
    "# Get improved outcomes (excluding anticoagulant)\n",
    "mask = (data['improved_outcome'] == 1) & (data['afib_anticoagulant'] == 0)\n",
    "patient_groups['improved_outcome_no_anticoagulant'] = data[mask]\n",
    "improved_outcome_no_anticoagulant = mask.mean()\n",
    "proportion_treated.append(improved_outcome_no_anticoagulant)\n",
    "print(f'Proportion of ischaemic patients with improved outcome (excluding use of anticoagulants): {improved_outcome_no_anticoagulant:0.4f}')\n",
    "\n",
    "# Get benchmark outcomes\n",
    "mask = data['benchmark_decision'] == 1\n",
    "patient_groups['benchmark'] = data[mask]\n",
    "benchmark = mask.mean()\n",
    "proportion_treated.append(benchmark)\n",
    "print(f'Proportion of ischaemic patients with benchmark outcome: {benchmark:0.4f}')"
   ]
  },
  {
   "cell_type": "code",
   "execution_count": 7,
   "metadata": {},
   "outputs": [],
   "source": [
    "# Results dataframe\n",
    "results = pd.DataFrame(index=patient_groups.keys())\n",
    "results['proportion_ischaemic_treated'] = proportion_treated\n",
    "\n",
    "# Put summary results in lists\n",
    "untreated_mrs_0_1 = []\n",
    "treated_mrs_0_1 = []\n",
    "change_in_mrs_0_1 = []\n",
    "untreated_mrs_0_2 = []\n",
    "treated_mrs_0_2 = []\n",
    "change_in_mrs_0_2 = []\n",
    "untreated_mrs6 = []\n",
    "treated_mrs6 = []\n",
    "change_in_mrs6 = []\n",
    "untreated_weighted_mrs = []\n",
    "treated_weighted_mrs = []\n",
    "change_in_weighted_mrs = []\n",
    "untreated_utility = []\n",
    "treated_utility = []\n",
    "change_in_utility = []\n",
    "\n",
    "\n",
    "for key, group in patient_groups.items():\n",
    "    # Patients in MRS 0-1\n",
    "    untreated = np.mean(group['untreated_mrs_0'] + group['untreated_mrs_1'])\n",
    "    treated = np.mean(group['treated_mrs_0'] + group['treated_mrs_1'])\n",
    "    improved = treated - untreated\n",
    "    untreated_mrs_0_1.append(untreated)\n",
    "    treated_mrs_0_1.append(treated)\n",
    "    change_in_mrs_0_1.append(improved)\n",
    "    # Patients in MRS 0-2\n",
    "    untreated = np.mean(group['untreated_mrs_0'] + group['untreated_mrs_1'] + group['untreated_mrs_2'])\n",
    "    treated = np.mean(group['treated_mrs_0'] + group['treated_mrs_1'] + group['treated_mrs_2'])\n",
    "    improved = treated - untreated\n",
    "    untreated_mrs_0_2.append(untreated)\n",
    "    treated_mrs_0_2.append(treated)\n",
    "    change_in_mrs_0_2.append(improved)\n",
    "    # Patients in MRS 6 (dead)\n",
    "    untreated = np.mean(group['untreated_mrs_6'])\n",
    "    treated = np.mean(group['treated_mrs_6'])\n",
    "    improved = treated - untreated\n",
    "    untreated_mrs6.append(untreated)\n",
    "    treated_mrs6.append(treated)\n",
    "    change_in_mrs6.append(improved)\n",
    "    # Weighted MRS\n",
    "    untreated = np.mean(group['untreated_weighted_mrs'])\n",
    "    treated = np.mean(group['treated_weighted_mrs'])\n",
    "    improved = treated - untreated\n",
    "    untreated_weighted_mrs.append(untreated)\n",
    "    treated_weighted_mrs.append(treated)\n",
    "    change_in_weighted_mrs.append(improved)\n",
    "    # Utility\n",
    "    untreated = np.mean(group['untreated_utility'])\n",
    "    treated = np.mean(group['treated_utility'])\n",
    "    improved = treated - untreated\n",
    "    untreated_utility.append(untreated)\n",
    "    treated_utility.append(treated)\n",
    "    change_in_utility.append(improved)\n",
    "\n",
    "results['untreated_mrs_0_1'] = untreated_mrs_0_1\n",
    "results['treated_mrs_0_1'] = treated_mrs_0_1\n",
    "results['change_in_mrs_0_1'] = change_in_mrs_0_1\n",
    "results['untreated_mrs_0_2'] = untreated_mrs_0_2\n",
    "results['treated_mrs_0_2'] = treated_mrs_0_2\n",
    "results['change_in_mrs_0_2'] = change_in_mrs_0_2\n",
    "results['untreated_mrs6'] = untreated_mrs6\n",
    "results['treated_mrs6'] = treated_mrs6\n",
    "results['change_in_mrs6'] = change_in_mrs6\n",
    "results['untreated_weighted_mrs'] = untreated_weighted_mrs\n",
    "results['treated_weighted_mrs'] = treated_weighted_mrs\n",
    "results['change_in_weighted_mrs'] = change_in_weighted_mrs\n",
    "results['untreated_utility'] = untreated_utility\n",
    "results['treated_utility'] = treated_utility\n",
    "results['change_in_utility'] = change_in_utility\n",
    "\n",
    "results.to_csv('./output/thrombolysis_benefit_summary.csv')\n"
   ]
  },
  {
   "cell_type": "code",
   "execution_count": 8,
   "metadata": {},
   "outputs": [
    {
     "data": {
      "text/html": [
       "<div>\n",
       "<style scoped>\n",
       "    .dataframe tbody tr th:only-of-type {\n",
       "        vertical-align: middle;\n",
       "    }\n",
       "\n",
       "    .dataframe tbody tr th {\n",
       "        vertical-align: top;\n",
       "    }\n",
       "\n",
       "    .dataframe thead th {\n",
       "        text-align: right;\n",
       "    }\n",
       "</style>\n",
       "<table border=\"1\" class=\"dataframe\">\n",
       "  <thead>\n",
       "    <tr style=\"text-align: right;\">\n",
       "      <th></th>\n",
       "      <th>actually treated</th>\n",
       "      <th>improved_outcome including anticoagulant</th>\n",
       "      <th>improved_outcome_no_anticoagulant</th>\n",
       "      <th>benchmark</th>\n",
       "    </tr>\n",
       "  </thead>\n",
       "  <tbody>\n",
       "    <tr>\n",
       "      <th>proportion_ischaemic_treated</th>\n",
       "      <td>0.352</td>\n",
       "      <td>0.712</td>\n",
       "      <td>0.624</td>\n",
       "      <td>0.474</td>\n",
       "    </tr>\n",
       "    <tr>\n",
       "      <th>untreated_mrs_0_1</th>\n",
       "      <td>0.262</td>\n",
       "      <td>0.239</td>\n",
       "      <td>0.249</td>\n",
       "      <td>0.263</td>\n",
       "    </tr>\n",
       "    <tr>\n",
       "      <th>treated_mrs_0_1</th>\n",
       "      <td>0.355</td>\n",
       "      <td>0.314</td>\n",
       "      <td>0.327</td>\n",
       "      <td>0.353</td>\n",
       "    </tr>\n",
       "    <tr>\n",
       "      <th>change_in_mrs_0_1</th>\n",
       "      <td>0.093</td>\n",
       "      <td>0.075</td>\n",
       "      <td>0.078</td>\n",
       "      <td>0.090</td>\n",
       "    </tr>\n",
       "    <tr>\n",
       "      <th>untreated_mrs_0_2</th>\n",
       "      <td>0.419</td>\n",
       "      <td>0.389</td>\n",
       "      <td>0.402</td>\n",
       "      <td>0.422</td>\n",
       "    </tr>\n",
       "    <tr>\n",
       "      <th>treated_mrs_0_2</th>\n",
       "      <td>0.537</td>\n",
       "      <td>0.487</td>\n",
       "      <td>0.502</td>\n",
       "      <td>0.536</td>\n",
       "    </tr>\n",
       "    <tr>\n",
       "      <th>change_in_mrs_0_2</th>\n",
       "      <td>0.118</td>\n",
       "      <td>0.098</td>\n",
       "      <td>0.100</td>\n",
       "      <td>0.114</td>\n",
       "    </tr>\n",
       "    <tr>\n",
       "      <th>untreated_mrs6</th>\n",
       "      <td>0.222</td>\n",
       "      <td>0.230</td>\n",
       "      <td>0.221</td>\n",
       "      <td>0.218</td>\n",
       "    </tr>\n",
       "    <tr>\n",
       "      <th>treated_mrs6</th>\n",
       "      <td>0.143</td>\n",
       "      <td>0.159</td>\n",
       "      <td>0.151</td>\n",
       "      <td>0.142</td>\n",
       "    </tr>\n",
       "    <tr>\n",
       "      <th>change_in_mrs6</th>\n",
       "      <td>-0.080</td>\n",
       "      <td>-0.071</td>\n",
       "      <td>-0.070</td>\n",
       "      <td>-0.077</td>\n",
       "    </tr>\n",
       "    <tr>\n",
       "      <th>untreated_weighted_mrs</th>\n",
       "      <td>3.166</td>\n",
       "      <td>3.283</td>\n",
       "      <td>3.223</td>\n",
       "      <td>3.146</td>\n",
       "    </tr>\n",
       "    <tr>\n",
       "      <th>treated_weighted_mrs</th>\n",
       "      <td>2.607</td>\n",
       "      <td>2.803</td>\n",
       "      <td>2.736</td>\n",
       "      <td>2.605</td>\n",
       "    </tr>\n",
       "    <tr>\n",
       "      <th>change_in_weighted_mrs</th>\n",
       "      <td>-0.559</td>\n",
       "      <td>-0.480</td>\n",
       "      <td>-0.487</td>\n",
       "      <td>-0.540</td>\n",
       "    </tr>\n",
       "    <tr>\n",
       "      <th>untreated_utility</th>\n",
       "      <td>0.453</td>\n",
       "      <td>0.428</td>\n",
       "      <td>0.439</td>\n",
       "      <td>0.457</td>\n",
       "    </tr>\n",
       "    <tr>\n",
       "      <th>treated_utility</th>\n",
       "      <td>0.558</td>\n",
       "      <td>0.519</td>\n",
       "      <td>0.531</td>\n",
       "      <td>0.559</td>\n",
       "    </tr>\n",
       "    <tr>\n",
       "      <th>change_in_utility</th>\n",
       "      <td>0.105</td>\n",
       "      <td>0.091</td>\n",
       "      <td>0.092</td>\n",
       "      <td>0.102</td>\n",
       "    </tr>\n",
       "  </tbody>\n",
       "</table>\n",
       "</div>"
      ],
      "text/plain": [
       "                              actually treated  \\\n",
       "proportion_ischaemic_treated             0.352   \n",
       "untreated_mrs_0_1                        0.262   \n",
       "treated_mrs_0_1                          0.355   \n",
       "change_in_mrs_0_1                        0.093   \n",
       "untreated_mrs_0_2                        0.419   \n",
       "treated_mrs_0_2                          0.537   \n",
       "change_in_mrs_0_2                        0.118   \n",
       "untreated_mrs6                           0.222   \n",
       "treated_mrs6                             0.143   \n",
       "change_in_mrs6                          -0.080   \n",
       "untreated_weighted_mrs                   3.166   \n",
       "treated_weighted_mrs                     2.607   \n",
       "change_in_weighted_mrs                  -0.559   \n",
       "untreated_utility                        0.453   \n",
       "treated_utility                          0.558   \n",
       "change_in_utility                        0.105   \n",
       "\n",
       "                              improved_outcome including anticoagulant  \\\n",
       "proportion_ischaemic_treated                                     0.712   \n",
       "untreated_mrs_0_1                                                0.239   \n",
       "treated_mrs_0_1                                                  0.314   \n",
       "change_in_mrs_0_1                                                0.075   \n",
       "untreated_mrs_0_2                                                0.389   \n",
       "treated_mrs_0_2                                                  0.487   \n",
       "change_in_mrs_0_2                                                0.098   \n",
       "untreated_mrs6                                                   0.230   \n",
       "treated_mrs6                                                     0.159   \n",
       "change_in_mrs6                                                  -0.071   \n",
       "untreated_weighted_mrs                                           3.283   \n",
       "treated_weighted_mrs                                             2.803   \n",
       "change_in_weighted_mrs                                          -0.480   \n",
       "untreated_utility                                                0.428   \n",
       "treated_utility                                                  0.519   \n",
       "change_in_utility                                                0.091   \n",
       "\n",
       "                              improved_outcome_no_anticoagulant  benchmark  \n",
       "proportion_ischaemic_treated                              0.624      0.474  \n",
       "untreated_mrs_0_1                                         0.249      0.263  \n",
       "treated_mrs_0_1                                           0.327      0.353  \n",
       "change_in_mrs_0_1                                         0.078      0.090  \n",
       "untreated_mrs_0_2                                         0.402      0.422  \n",
       "treated_mrs_0_2                                           0.502      0.536  \n",
       "change_in_mrs_0_2                                         0.100      0.114  \n",
       "untreated_mrs6                                            0.221      0.218  \n",
       "treated_mrs6                                              0.151      0.142  \n",
       "change_in_mrs6                                           -0.070     -0.077  \n",
       "untreated_weighted_mrs                                    3.223      3.146  \n",
       "treated_weighted_mrs                                      2.736      2.605  \n",
       "change_in_weighted_mrs                                   -0.487     -0.540  \n",
       "untreated_utility                                         0.439      0.457  \n",
       "treated_utility                                           0.531      0.559  \n",
       "change_in_utility                                         0.092      0.102  "
      ]
     },
     "execution_count": 8,
     "metadata": {},
     "output_type": "execute_result"
    }
   ],
   "source": [
    "results.round(3).T"
   ]
  },
  {
   "cell_type": "code",
   "execution_count": 9,
   "metadata": {},
   "outputs": [],
   "source": [
    "# Additional good outcomes per 1000 arrivals (4 hours)\n",
    "\n",
    "summary = pd.DataFrame()\n",
    "\n",
    "summary['additional mrs 0-1 per 1000 arrivals'] = (\n",
    "    results['proportion_ischaemic_treated'] * results['change_in_mrs_0_1'] * 1000)\n",
    "\n",
    "summary['additional mrs 0-2 per 1000 arrivals'] = (\n",
    "    results['proportion_ischaemic_treated'] * results['change_in_mrs_0_2'] * 1000)\n",
    "\n",
    "summary['mean change in weighted mRS'] = (\n",
    "    results['proportion_ischaemic_treated'] * results['change_in_weighted_mrs'])\n",
    "\n",
    "summary['mean change in utility'] = (\n",
    "    results['proportion_ischaemic_treated'] * results['change_in_utility'])\n",
    "\n",
    "summary['mean change in death'] = (\n",
    "    results['proportion_ischaemic_treated'] * results['change_in_mrs6'])\n",
    "\n",
    "summary = summary.round(3)"
   ]
  },
  {
   "cell_type": "code",
   "execution_count": 10,
   "metadata": {},
   "outputs": [
    {
     "data": {
      "text/html": [
       "<div>\n",
       "<style scoped>\n",
       "    .dataframe tbody tr th:only-of-type {\n",
       "        vertical-align: middle;\n",
       "    }\n",
       "\n",
       "    .dataframe tbody tr th {\n",
       "        vertical-align: top;\n",
       "    }\n",
       "\n",
       "    .dataframe thead th {\n",
       "        text-align: right;\n",
       "    }\n",
       "</style>\n",
       "<table border=\"1\" class=\"dataframe\">\n",
       "  <thead>\n",
       "    <tr style=\"text-align: right;\">\n",
       "      <th></th>\n",
       "      <th>actually treated</th>\n",
       "      <th>improved_outcome including anticoagulant</th>\n",
       "      <th>improved_outcome_no_anticoagulant</th>\n",
       "      <th>benchmark</th>\n",
       "    </tr>\n",
       "  </thead>\n",
       "  <tbody>\n",
       "    <tr>\n",
       "      <th>additional mrs 0-1 per 1000 arrivals</th>\n",
       "      <td>32.697</td>\n",
       "      <td>53.748</td>\n",
       "      <td>48.864</td>\n",
       "      <td>42.724</td>\n",
       "    </tr>\n",
       "    <tr>\n",
       "      <th>additional mrs 0-2 per 1000 arrivals</th>\n",
       "      <td>41.391</td>\n",
       "      <td>69.951</td>\n",
       "      <td>62.551</td>\n",
       "      <td>53.825</td>\n",
       "    </tr>\n",
       "    <tr>\n",
       "      <th>mean change in weighted mRS</th>\n",
       "      <td>-0.197</td>\n",
       "      <td>-0.342</td>\n",
       "      <td>-0.304</td>\n",
       "      <td>-0.256</td>\n",
       "    </tr>\n",
       "    <tr>\n",
       "      <th>mean change in utility</th>\n",
       "      <td>0.037</td>\n",
       "      <td>0.065</td>\n",
       "      <td>0.058</td>\n",
       "      <td>0.048</td>\n",
       "    </tr>\n",
       "    <tr>\n",
       "      <th>mean change in death</th>\n",
       "      <td>-0.028</td>\n",
       "      <td>-0.050</td>\n",
       "      <td>-0.044</td>\n",
       "      <td>-0.036</td>\n",
       "    </tr>\n",
       "  </tbody>\n",
       "</table>\n",
       "</div>"
      ],
      "text/plain": [
       "                                      actually treated  \\\n",
       "additional mrs 0-1 per 1000 arrivals            32.697   \n",
       "additional mrs 0-2 per 1000 arrivals            41.391   \n",
       "mean change in weighted mRS                     -0.197   \n",
       "mean change in utility                           0.037   \n",
       "mean change in death                            -0.028   \n",
       "\n",
       "                                      improved_outcome including anticoagulant  \\\n",
       "additional mrs 0-1 per 1000 arrivals                                    53.748   \n",
       "additional mrs 0-2 per 1000 arrivals                                    69.951   \n",
       "mean change in weighted mRS                                             -0.342   \n",
       "mean change in utility                                                   0.065   \n",
       "mean change in death                                                    -0.050   \n",
       "\n",
       "                                      improved_outcome_no_anticoagulant  \\\n",
       "additional mrs 0-1 per 1000 arrivals                             48.864   \n",
       "additional mrs 0-2 per 1000 arrivals                             62.551   \n",
       "mean change in weighted mRS                                      -0.304   \n",
       "mean change in utility                                            0.058   \n",
       "mean change in death                                             -0.044   \n",
       "\n",
       "                                      benchmark  \n",
       "additional mrs 0-1 per 1000 arrivals     42.724  \n",
       "additional mrs 0-2 per 1000 arrivals     53.825  \n",
       "mean change in weighted mRS              -0.256  \n",
       "mean change in utility                    0.048  \n",
       "mean change in death                     -0.036  "
      ]
     },
     "execution_count": 10,
     "metadata": {},
     "output_type": "execute_result"
    }
   ],
   "source": [
    "summary.T"
   ]
  },
  {
   "cell_type": "code",
   "execution_count": 11,
   "metadata": {},
   "outputs": [
    {
     "name": "stdout",
     "output_type": "stream",
     "text": [
      "Proportion of patients on anticoagulants treated with thrombolysis: 0.0906\n",
      "Proportion of patients on anticoagulants with benchmark decision: 0.0406\n"
     ]
    }
   ],
   "source": [
    "# What proportion of patients on anticoagulants are treated with thrombolysis?\n",
    "\n",
    "mask = (data['afib_anticoagulant'] == 1)\n",
    "selected_data = data[mask]\n",
    "proportion_treated = selected_data['thrombolysis'].mean()\n",
    "print(f'Proportion of patients on anticoagulants treated with thrombolysis: {proportion_treated:0.4f}')\n",
    "proportion_treated = selected_data['benchmark_decision'].mean()\n",
    "print(f'Proportion of patients on anticoagulants with benchmark decision: {proportion_treated:0.4f}')\n"
   ]
  },
  {
   "cell_type": "code",
   "execution_count": 12,
   "metadata": {},
   "outputs": [
    {
     "name": "stdout",
     "output_type": "stream",
     "text": [
      "Proportion of benchmark decisions that are improved outcomes: 0.9331\n"
     ]
    }
   ],
   "source": [
    "# Proportion of benchmark decision that are improved outcomes\n",
    "mask = (data['benchmark_decision'] == 1)\n",
    "selected_data = data[mask]\n",
    "proportion_improved = selected_data['improved_outcome'].mean()\n",
    "print(f'Proportion of benchmark decisions that are improved outcomes: {proportion_improved:0.4f}')\n"
   ]
  },
  {
   "cell_type": "code",
   "execution_count": 13,
   "metadata": {},
   "outputs": [
    {
     "name": "stdout",
     "output_type": "stream",
     "text": [
      "Proportion of actual thrombolysis that are improved outcomes: 0.9181\n"
     ]
    }
   ],
   "source": [
    "# Proportion of actual thrombolysis that are improved outcomes\n",
    "mask = (data['thrombolysis'] == 1)\n",
    "selected_data = data[mask]\n",
    "proportion_improved = selected_data['improved_outcome'].mean()\n",
    "print(f'Proportion of actual thrombolysis that are improved outcomes: {proportion_improved:0.4f}')\n"
   ]
  },
  {
   "cell_type": "code",
   "execution_count": 15,
   "metadata": {},
   "outputs": [
    {
     "name": "stdout",
     "output_type": "stream",
     "text": [
      "Proportion of improved outcomes (no anticoagulation) that are benchmark decisions: 0.7013\n"
     ]
    }
   ],
   "source": [
    "# Proportion of improved outcomes (no anticoagulation) that are benchmark decisions\n",
    "mask = (data['improved_outcome'] == 1) & (data['afib_anticoagulant'] == 0)\n",
    "selected_data = data[mask]\n",
    "proportion_benchmark = selected_data['benchmark_decision'].mean()\n",
    "print(f'Proportion of improved outcomes (no anticoagulation) that are benchmark decisions: {proportion_benchmark:0.4f}')"
   ]
  },
  {
   "cell_type": "code",
   "execution_count": 16,
   "metadata": {},
   "outputs": [
    {
     "name": "stdout",
     "output_type": "stream",
     "text": [
      "Proportion of improved outcomes (no anticoagulation) treated with thrombolysis: 0.5003\n"
     ]
    }
   ],
   "source": [
    "# Proportion of improved outcomes (no anticoagulation) that are treated with thrombolysis\n",
    "mask = (data['improved_outcome'] == 1) & (data['afib_anticoagulant'] == 0)\n",
    "selected_data = data[mask]\n",
    "proportion_treated = selected_data['thrombolysis'].mean()\n",
    "print(f'Proportion of improved outcomes (no anticoagulation) treated with thrombolysis: {proportion_treated:0.4f}')"
   ]
  },
  {
   "cell_type": "code",
   "execution_count": null,
   "metadata": {},
   "outputs": [],
   "source": []
  }
 ],
 "metadata": {
  "kernelspec": {
   "display_name": "samprod",
   "language": "python",
   "name": "python3"
  },
  "language_info": {
   "codemirror_mode": {
    "name": "ipython",
    "version": 3
   },
   "file_extension": ".py",
   "mimetype": "text/x-python",
   "name": "python",
   "nbconvert_exporter": "python",
   "pygments_lexer": "ipython3",
   "version": "3.10.13"
  }
 },
 "nbformat": 4,
 "nbformat_minor": 2
}
